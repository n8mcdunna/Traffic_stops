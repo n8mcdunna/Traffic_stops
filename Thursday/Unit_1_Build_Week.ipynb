{
  "nbformat": 4,
  "nbformat_minor": 0,
  "metadata": {
    "colab": {
      "name": "Unit 1 Build Week.ipynb",
      "provenance": [],
      "authorship_tag": "ABX9TyNuIV290fMAdXakKDDRxjH0",
      "include_colab_link": true
    },
    "kernelspec": {
      "name": "python3",
      "display_name": "Python 3"
    }
  },
  "cells": [
    {
      "cell_type": "markdown",
      "metadata": {
        "id": "view-in-github",
        "colab_type": "text"
      },
      "source": [
        "<a href=\"https://colab.research.google.com/github/n8mcdunna/Traffic_stops/blob/master/Thursday/Unit_1_Build_Week.ipynb\" target=\"_parent\"><img src=\"https://colab.research.google.com/assets/colab-badge.svg\" alt=\"Open In Colab\"/></a>"
      ]
    },
    {
      "cell_type": "code",
      "metadata": {
        "id": "ihF93uDVzpFS",
        "colab_type": "code",
        "colab": {}
      },
      "source": [
        "import pandas as pd\n",
        "import numpy as np\n",
        "import matplotlib.pyplot as plt\n",
        "import seaborn as sns\n",
        "from scipy.stats import chi2_contingency"
      ],
      "execution_count": 224,
      "outputs": []
    },
    {
      "cell_type": "code",
      "metadata": {
        "id": "M1zWeDiTz164",
        "colab_type": "code",
        "colab": {}
      },
      "source": [
        "df = pd.read_csv('http://users.stat.ufl.edu/~winner/data/trafficstop.csv')"
      ],
      "execution_count": 225,
      "outputs": []
    },
    {
      "cell_type": "code",
      "metadata": {
        "id": "FAQhY9vHU9Mz",
        "colab_type": "code",
        "colab": {}
      },
      "source": [
        "# Description of data http://users.stat.ufl.edu/~winner/data/trafficstop.txt"
      ],
      "execution_count": 226,
      "outputs": []
    },
    {
      "cell_type": "code",
      "metadata": {
        "id": "M-mVC_Ss46hy",
        "colab_type": "code",
        "colab": {}
      },
      "source": [
        "# Changing dataframe column name and creatingn label variables\n",
        "df.columns = ['Month', 'Reason for Stop', 'Officer Race', 'Officer Gender', 'Officer Years of Service', 'Driver Race', 'Driver Hispanic', \n",
        "              'Driver Gender', 'Driver Age', 'Search of Vehicle', 'Result of Stop']\n",
        "reason_labels = ['Checkpoint', 'DWI', 'Investigation', 'Other', 'Safe\\nMovement', 'Seatbelt', 'Speeding', 'StopLight\\nor Sign', 'Vehicle\\nMovement', 'Vehicle\\nRegistry']\n",
        "officer_race_labels = ['Native American', 'Asian', 'African American', 'Hispanic', 'White', 'Unspecified']\n",
        "driver_race_labels = ['Asian', 'African American', 'Native American', 'Other/Unknown', 'White']\n",
        "result_labels = ['No Action Taken', 'Verbal Warning', 'Written Warning', 'Citation', 'Arrest']"
      ],
      "execution_count": 227,
      "outputs": []
    },
    {
      "cell_type": "code",
      "metadata": {
        "id": "MxHVX6L2xUvI",
        "colab_type": "code",
        "colab": {}
      },
      "source": [
        "df['Officer Race'] = df['Officer Race'].replace(np.nan, 6) # replacing NaNs in officer race with 6. NaN did stand for undefined"
      ],
      "execution_count": 228,
      "outputs": []
    },
    {
      "cell_type": "code",
      "metadata": {
        "id": "7MkIVR3EZrsS",
        "colab_type": "code",
        "colab": {}
      },
      "source": [
        "# Dividing variables into categorical and numerical for t-tests\n",
        "cat_variables = df.loc[:,['Month', 'Reason for Stop', 'Officer Race', 'Officer Gender', 'Driver Race', 'Driver Hispanic', 'Driver Gender', 'Search of Vehicle', 'Result of Stop']]\n",
        "num_variables = df.loc[:,['Officer Years of Service', 'Driver Age']]"
      ],
      "execution_count": 229,
      "outputs": []
    },
    {
      "cell_type": "code",
      "metadata": {
        "id": "-pF2RwDwz_Gz",
        "colab_type": "code",
        "colab": {
          "base_uri": "https://localhost:8080/",
          "height": 238
        },
        "outputId": "cb66f3f8-f381-44c7-f810-ec00ca187719"
      },
      "source": [
        "print(df.shape)\n",
        "df.head()"
      ],
      "execution_count": 230,
      "outputs": [
        {
          "output_type": "stream",
          "text": [
            "(79884, 11)\n"
          ],
          "name": "stdout"
        },
        {
          "output_type": "execute_result",
          "data": {
            "text/html": [
              "<div>\n",
              "<style scoped>\n",
              "    .dataframe tbody tr th:only-of-type {\n",
              "        vertical-align: middle;\n",
              "    }\n",
              "\n",
              "    .dataframe tbody tr th {\n",
              "        vertical-align: top;\n",
              "    }\n",
              "\n",
              "    .dataframe thead th {\n",
              "        text-align: right;\n",
              "    }\n",
              "</style>\n",
              "<table border=\"1\" class=\"dataframe\">\n",
              "  <thead>\n",
              "    <tr style=\"text-align: right;\">\n",
              "      <th></th>\n",
              "      <th>Month</th>\n",
              "      <th>Reason for Stop</th>\n",
              "      <th>Officer Race</th>\n",
              "      <th>Officer Gender</th>\n",
              "      <th>Officer Years of Service</th>\n",
              "      <th>Driver Race</th>\n",
              "      <th>Driver Hispanic</th>\n",
              "      <th>Driver Gender</th>\n",
              "      <th>Driver Age</th>\n",
              "      <th>Search of Vehicle</th>\n",
              "      <th>Result of Stop</th>\n",
              "    </tr>\n",
              "  </thead>\n",
              "  <tbody>\n",
              "    <tr>\n",
              "      <th>0</th>\n",
              "      <td>8</td>\n",
              "      <td>8</td>\n",
              "      <td>3.0</td>\n",
              "      <td>0</td>\n",
              "      <td>22</td>\n",
              "      <td>2</td>\n",
              "      <td>2</td>\n",
              "      <td>1</td>\n",
              "      <td>40</td>\n",
              "      <td>0</td>\n",
              "      <td>2</td>\n",
              "    </tr>\n",
              "    <tr>\n",
              "      <th>1</th>\n",
              "      <td>1</td>\n",
              "      <td>8</td>\n",
              "      <td>5.0</td>\n",
              "      <td>1</td>\n",
              "      <td>18</td>\n",
              "      <td>2</td>\n",
              "      <td>2</td>\n",
              "      <td>1</td>\n",
              "      <td>26</td>\n",
              "      <td>1</td>\n",
              "      <td>4</td>\n",
              "    </tr>\n",
              "    <tr>\n",
              "      <th>2</th>\n",
              "      <td>1</td>\n",
              "      <td>8</td>\n",
              "      <td>5.0</td>\n",
              "      <td>1</td>\n",
              "      <td>18</td>\n",
              "      <td>2</td>\n",
              "      <td>2</td>\n",
              "      <td>0</td>\n",
              "      <td>25</td>\n",
              "      <td>0</td>\n",
              "      <td>2</td>\n",
              "    </tr>\n",
              "    <tr>\n",
              "      <th>3</th>\n",
              "      <td>11</td>\n",
              "      <td>7</td>\n",
              "      <td>3.0</td>\n",
              "      <td>0</td>\n",
              "      <td>23</td>\n",
              "      <td>5</td>\n",
              "      <td>1</td>\n",
              "      <td>1</td>\n",
              "      <td>41</td>\n",
              "      <td>0</td>\n",
              "      <td>2</td>\n",
              "    </tr>\n",
              "    <tr>\n",
              "      <th>4</th>\n",
              "      <td>12</td>\n",
              "      <td>7</td>\n",
              "      <td>3.0</td>\n",
              "      <td>0</td>\n",
              "      <td>23</td>\n",
              "      <td>5</td>\n",
              "      <td>2</td>\n",
              "      <td>1</td>\n",
              "      <td>53</td>\n",
              "      <td>0</td>\n",
              "      <td>2</td>\n",
              "    </tr>\n",
              "  </tbody>\n",
              "</table>\n",
              "</div>"
            ],
            "text/plain": [
              "   Month  Reason for Stop  ...  Search of Vehicle  Result of Stop\n",
              "0      8                8  ...                  0               2\n",
              "1      1                8  ...                  1               4\n",
              "2      1                8  ...                  0               2\n",
              "3     11                7  ...                  0               2\n",
              "4     12                7  ...                  0               2\n",
              "\n",
              "[5 rows x 11 columns]"
            ]
          },
          "metadata": {
            "tags": []
          },
          "execution_count": 230
        }
      ]
    },
    {
      "cell_type": "code",
      "metadata": {
        "id": "k59idgFmZQCA",
        "colab_type": "code",
        "colab": {}
      },
      "source": [
        "# Putting age into categories to make cleaner looking graph\n",
        "bins = [x for x in range(10, 80, 10)]\n",
        "names = ['Teens', '20s', '30s', '40s', '50s', '60+']\n",
        "df['Age Group'] = pd.cut(df['Driver Age'], bins, labels= names)"
      ],
      "execution_count": 231,
      "outputs": []
    },
    {
      "cell_type": "code",
      "metadata": {
        "id": "mGw3i-Lfb5jf",
        "colab_type": "code",
        "colab": {}
      },
      "source": [
        "# Getting age group totals\n",
        "drivers_by_age_group = df['Age Group'].value_counts(ascending= True)\n",
        "df3 = pd.crosstab(df['Age Group'], df['Reason for Stop'], margins= True, normalize= True) * 100"
      ],
      "execution_count": 232,
      "outputs": []
    },
    {
      "cell_type": "code",
      "metadata": {
        "id": "zDkSq38ycJh2",
        "colab_type": "code",
        "colab": {
          "base_uri": "https://localhost:8080/",
          "height": 383
        },
        "outputId": "47458a1d-0777-4f0b-cca1-7a88d066fb96"
      },
      "source": [
        "fig, ax = plt.subplots()\n",
        "plt.style.use('fivethirtyeight')\n",
        "\n",
        "# Figure dimensions\n",
        "fig.set_figheight(5)\n",
        "fig.set_figwidth(10)\n",
        "\n",
        "bar_plot = sns.barplot(x= drivers_by_age_group, y= drivers_by_age_group.index)\n",
        "\n",
        "bar_plot.set(xlabel= \"Traffic Stops\",\n",
        "             ylabel= 'Age Groups',\n",
        "             title= 'Traffic Stops by Age Groups')\n",
        "plt.savefig('age_groups.png', bbox_inches= 'tight')\n",
        "plt.show();"
      ],
      "execution_count": 233,
      "outputs": [
        {
          "output_type": "display_data",
          "data": {
            "image/png": "[encoded data removed]",
            "text/plain": [
              "<Figure size 720x360 with 1 Axes>"
            ]
          },
          "metadata": {
            "tags": []
          }
        }
      ]
    },
    {
      "cell_type": "code",
      "metadata": {
        "id": "ODnnW2xbLy3Q",
        "colab_type": "code",
        "colab": {
          "base_uri": "https://localhost:8080/",
          "height": 51
        },
        "outputId": "5760290b-b8b6-4be1-966f-fa988a050a1f"
      },
      "source": [
        "# Creating dataframe using percentages of reason for stop and age group\n",
        "df4 = pd.crosstab(df['Reason for Stop'], df['Age Group'], margins= True, normalize= True) * 100\n",
        "print(df4.columns)\n",
        "print(df4.index)"
      ],
      "execution_count": 234,
      "outputs": [
        {
          "output_type": "stream",
          "text": [
            "Index(['Teens', '20s', '30s', '40s', '50s', '60+', 'All'], dtype='object', name='Age Group')\n",
            "Index([1, 2, 3, 4, 5, 6, 7, 8, 9, 10, 'All'], dtype='object', name='Reason for Stop')\n"
          ],
          "name": "stdout"
        }
      ]
    },
    {
      "cell_type": "code",
      "metadata": {
        "id": "CMs-50ak8W3W",
        "colab_type": "code",
        "colab": {
          "base_uri": "https://localhost:8080/",
          "height": 500
        },
        "outputId": "70858e58-b89b-4c46-e095-15e21df6797f"
      },
      "source": [
        "fig, ax = plt.subplots()\n",
        "plt.style.use('fivethirtyeight')\n",
        "\n",
        "# Creating colors for plotting. Used paired since it had 12 values and visually appealing\n",
        "color = sns.color_palette('Paired', 11)[::-1]\n",
        "\n",
        "for name in df4.columns[:-1]: # iterating through all columns except for 'All'\n",
        "  foundation = 0\n",
        "  for i in df4.index[:-1]: # iterating through all rows except for 'All'\n",
        "    height = (df4[name][i] / df4[name]['All'])*100 # calculating percentages for each row and column\n",
        "    ax.bar(x= name, bottom= foundation, height= height, width= 0.97, color= color[i]) # setting width to give a little gap, and iterating through color palette\n",
        "    foundation += height\n",
        "\n",
        "plt.title('Age Groups and Reason for Traffic Stop')\n",
        "fig.set_figheight(7)\n",
        "fig.set_figwidth(15)\n",
        "\n",
        "ax.set_xlabel('Age Group')\n",
        "ax.set_ylabel('Percent of Traffic Stops', fontsize= 'large')\n",
        "\n",
        "reason_labels = ['Checkpoint', 'DWI', 'Investigation', 'Other', 'Safe Movement', 'Seatbelt', 'Speeding', 'StopLight or Sign', 'Vehicle Movement', 'Vehicle Registry']\n",
        "\n",
        "# Used label spacing to reverse the order of the legend to match the graph and bbox to anchor to move legend to appropriate spot\n",
        "ax.legend(labels= reason_labels, fontsize= 'large', loc='best', bbox_to_anchor=(1, .3), labelspacing= -2.5, frameon= False)\n",
        "\n",
        "ax.set_xticklabels(df4.columns[:-1])\n",
        "ax.set_xticks(ticks= [0, 1, 2, 3, 4, 5])\n",
        "\n",
        "plt.savefig('age_group_and_result.png', bbox_inches= 'tight')\n",
        "plt.show();"
      ],
      "execution_count": 235,
      "outputs": [
        {
          "output_type": "display_data",
          "data": {
            "image/png": "[encoded data removed]",
            "text/plain": [
              "<Figure size 1080x504 with 1 Axes>"
            ]
          },
          "metadata": {
            "tags": []
          }
        }
      ]
    },
    {
      "cell_type": "markdown",
      "metadata": {
        "id": "v4ivAIfCaAeX",
        "colab_type": "text"
      },
      "source": [
        "Performing chi square analysis on categorical variable. After performing analysis all of the categorical values are closely linked to each other due to their very small p-values."
      ]
    },
    {
      "cell_type": "code",
      "metadata": {
        "id": "AdYh_ePdV-RM",
        "colab_type": "code",
        "colab": {}
      },
      "source": [
        "# Performing statistical analysis on categorical variables\n",
        "def chi_square(column_name):\n",
        "  results = [(column, chi2_contingency(pd.crosstab(cat_variables[column], cat_variables[column_name]))[1]) for column in cat_variables.columns]\n",
        "  results = pd.DataFrame(results)\n",
        "  results.columns = ['Variable', 'p-value']\n",
        "  results = results.sort_values(by= ['p-value'])\n",
        "  return results"
      ],
      "execution_count": 236,
      "outputs": []
    },
    {
      "cell_type": "code",
      "metadata": {
        "id": "1k5C7VZWX1su",
        "colab_type": "code",
        "colab": {
          "base_uri": "https://localhost:8080/",
          "height": 328
        },
        "outputId": "85756ed1-acfe-4ca5-8162-53f04c8d945a"
      },
      "source": [
        "chi_square('Reason for Stop')"
      ],
      "execution_count": 237,
      "outputs": [
        {
          "output_type": "execute_result",
          "data": {
            "text/html": [
              "<div>\n",
              "<style scoped>\n",
              "    .dataframe tbody tr th:only-of-type {\n",
              "        vertical-align: middle;\n",
              "    }\n",
              "\n",
              "    .dataframe tbody tr th {\n",
              "        vertical-align: top;\n",
              "    }\n",
              "\n",
              "    .dataframe thead th {\n",
              "        text-align: right;\n",
              "    }\n",
              "</style>\n",
              "<table border=\"1\" class=\"dataframe\">\n",
              "  <thead>\n",
              "    <tr style=\"text-align: right;\">\n",
              "      <th></th>\n",
              "      <th>Variable</th>\n",
              "      <th>p-value</th>\n",
              "    </tr>\n",
              "  </thead>\n",
              "  <tbody>\n",
              "    <tr>\n",
              "      <th>1</th>\n",
              "      <td>Reason for Stop</td>\n",
              "      <td>0.000000e+00</td>\n",
              "    </tr>\n",
              "    <tr>\n",
              "      <th>4</th>\n",
              "      <td>Driver Race</td>\n",
              "      <td>0.000000e+00</td>\n",
              "    </tr>\n",
              "    <tr>\n",
              "      <th>7</th>\n",
              "      <td>Search of Vehicle</td>\n",
              "      <td>0.000000e+00</td>\n",
              "    </tr>\n",
              "    <tr>\n",
              "      <th>8</th>\n",
              "      <td>Result of Stop</td>\n",
              "      <td>0.000000e+00</td>\n",
              "    </tr>\n",
              "    <tr>\n",
              "      <th>5</th>\n",
              "      <td>Driver Hispanic</td>\n",
              "      <td>1.239846e-139</td>\n",
              "    </tr>\n",
              "    <tr>\n",
              "      <th>2</th>\n",
              "      <td>Officer Race</td>\n",
              "      <td>1.467362e-133</td>\n",
              "    </tr>\n",
              "    <tr>\n",
              "      <th>0</th>\n",
              "      <td>Month</td>\n",
              "      <td>5.973070e-127</td>\n",
              "    </tr>\n",
              "    <tr>\n",
              "      <th>3</th>\n",
              "      <td>Officer Gender</td>\n",
              "      <td>3.315326e-125</td>\n",
              "    </tr>\n",
              "    <tr>\n",
              "      <th>6</th>\n",
              "      <td>Driver Gender</td>\n",
              "      <td>1.074974e-77</td>\n",
              "    </tr>\n",
              "  </tbody>\n",
              "</table>\n",
              "</div>"
            ],
            "text/plain": [
              "            Variable        p-value\n",
              "1    Reason for Stop   0.000000e+00\n",
              "4        Driver Race   0.000000e+00\n",
              "7  Search of Vehicle   0.000000e+00\n",
              "8     Result of Stop   0.000000e+00\n",
              "5    Driver Hispanic  1.239846e-139\n",
              "2       Officer Race  1.467362e-133\n",
              "0              Month  5.973070e-127\n",
              "3     Officer Gender  3.315326e-125\n",
              "6      Driver Gender   1.074974e-77"
            ]
          },
          "metadata": {
            "tags": []
          },
          "execution_count": 237
        }
      ]
    },
    {
      "cell_type": "code",
      "metadata": {
        "id": "qVnubozqX5ym",
        "colab_type": "code",
        "colab": {
          "base_uri": "https://localhost:8080/",
          "height": 328
        },
        "outputId": "ad56651a-2731-4f70-f2ef-f85b640a6c21"
      },
      "source": [
        "chi_square('Result of Stop')"
      ],
      "execution_count": 238,
      "outputs": [
        {
          "output_type": "execute_result",
          "data": {
            "text/html": [
              "<div>\n",
              "<style scoped>\n",
              "    .dataframe tbody tr th:only-of-type {\n",
              "        vertical-align: middle;\n",
              "    }\n",
              "\n",
              "    .dataframe tbody tr th {\n",
              "        vertical-align: top;\n",
              "    }\n",
              "\n",
              "    .dataframe thead th {\n",
              "        text-align: right;\n",
              "    }\n",
              "</style>\n",
              "<table border=\"1\" class=\"dataframe\">\n",
              "  <thead>\n",
              "    <tr style=\"text-align: right;\">\n",
              "      <th></th>\n",
              "      <th>Variable</th>\n",
              "      <th>p-value</th>\n",
              "    </tr>\n",
              "  </thead>\n",
              "  <tbody>\n",
              "    <tr>\n",
              "      <th>1</th>\n",
              "      <td>Reason for Stop</td>\n",
              "      <td>0.000000e+00</td>\n",
              "    </tr>\n",
              "    <tr>\n",
              "      <th>7</th>\n",
              "      <td>Search of Vehicle</td>\n",
              "      <td>0.000000e+00</td>\n",
              "    </tr>\n",
              "    <tr>\n",
              "      <th>8</th>\n",
              "      <td>Result of Stop</td>\n",
              "      <td>0.000000e+00</td>\n",
              "    </tr>\n",
              "    <tr>\n",
              "      <th>2</th>\n",
              "      <td>Officer Race</td>\n",
              "      <td>2.701179e-261</td>\n",
              "    </tr>\n",
              "    <tr>\n",
              "      <th>6</th>\n",
              "      <td>Driver Gender</td>\n",
              "      <td>5.981797e-87</td>\n",
              "    </tr>\n",
              "    <tr>\n",
              "      <th>4</th>\n",
              "      <td>Driver Race</td>\n",
              "      <td>1.027880e-83</td>\n",
              "    </tr>\n",
              "    <tr>\n",
              "      <th>0</th>\n",
              "      <td>Month</td>\n",
              "      <td>5.788958e-54</td>\n",
              "    </tr>\n",
              "    <tr>\n",
              "      <th>5</th>\n",
              "      <td>Driver Hispanic</td>\n",
              "      <td>4.732458e-47</td>\n",
              "    </tr>\n",
              "    <tr>\n",
              "      <th>3</th>\n",
              "      <td>Officer Gender</td>\n",
              "      <td>6.830459e-11</td>\n",
              "    </tr>\n",
              "  </tbody>\n",
              "</table>\n",
              "</div>"
            ],
            "text/plain": [
              "            Variable        p-value\n",
              "1    Reason for Stop   0.000000e+00\n",
              "7  Search of Vehicle   0.000000e+00\n",
              "8     Result of Stop   0.000000e+00\n",
              "2       Officer Race  2.701179e-261\n",
              "6      Driver Gender   5.981797e-87\n",
              "4        Driver Race   1.027880e-83\n",
              "0              Month   5.788958e-54\n",
              "5    Driver Hispanic   4.732458e-47\n",
              "3     Officer Gender   6.830459e-11"
            ]
          },
          "metadata": {
            "tags": []
          },
          "execution_count": 238
        }
      ]
    },
    {
      "cell_type": "code",
      "metadata": {
        "id": "FQ8EhgPVYIYP",
        "colab_type": "code",
        "colab": {
          "base_uri": "https://localhost:8080/",
          "height": 328
        },
        "outputId": "cef03750-a19f-449b-daee-bf048bacd685"
      },
      "source": [
        "chi_square('Search of Vehicle')"
      ],
      "execution_count": 239,
      "outputs": [
        {
          "output_type": "execute_result",
          "data": {
            "text/html": [
              "<div>\n",
              "<style scoped>\n",
              "    .dataframe tbody tr th:only-of-type {\n",
              "        vertical-align: middle;\n",
              "    }\n",
              "\n",
              "    .dataframe tbody tr th {\n",
              "        vertical-align: top;\n",
              "    }\n",
              "\n",
              "    .dataframe thead th {\n",
              "        text-align: right;\n",
              "    }\n",
              "</style>\n",
              "<table border=\"1\" class=\"dataframe\">\n",
              "  <thead>\n",
              "    <tr style=\"text-align: right;\">\n",
              "      <th></th>\n",
              "      <th>Variable</th>\n",
              "      <th>p-value</th>\n",
              "    </tr>\n",
              "  </thead>\n",
              "  <tbody>\n",
              "    <tr>\n",
              "      <th>1</th>\n",
              "      <td>Reason for Stop</td>\n",
              "      <td>0.000000e+00</td>\n",
              "    </tr>\n",
              "    <tr>\n",
              "      <th>7</th>\n",
              "      <td>Search of Vehicle</td>\n",
              "      <td>0.000000e+00</td>\n",
              "    </tr>\n",
              "    <tr>\n",
              "      <th>8</th>\n",
              "      <td>Result of Stop</td>\n",
              "      <td>0.000000e+00</td>\n",
              "    </tr>\n",
              "    <tr>\n",
              "      <th>6</th>\n",
              "      <td>Driver Gender</td>\n",
              "      <td>1.137851e-195</td>\n",
              "    </tr>\n",
              "    <tr>\n",
              "      <th>4</th>\n",
              "      <td>Driver Race</td>\n",
              "      <td>5.338474e-160</td>\n",
              "    </tr>\n",
              "    <tr>\n",
              "      <th>2</th>\n",
              "      <td>Officer Race</td>\n",
              "      <td>2.020537e-28</td>\n",
              "    </tr>\n",
              "    <tr>\n",
              "      <th>3</th>\n",
              "      <td>Officer Gender</td>\n",
              "      <td>4.963004e-08</td>\n",
              "    </tr>\n",
              "    <tr>\n",
              "      <th>5</th>\n",
              "      <td>Driver Hispanic</td>\n",
              "      <td>1.837276e-04</td>\n",
              "    </tr>\n",
              "    <tr>\n",
              "      <th>0</th>\n",
              "      <td>Month</td>\n",
              "      <td>1.871583e-03</td>\n",
              "    </tr>\n",
              "  </tbody>\n",
              "</table>\n",
              "</div>"
            ],
            "text/plain": [
              "            Variable        p-value\n",
              "1    Reason for Stop   0.000000e+00\n",
              "7  Search of Vehicle   0.000000e+00\n",
              "8     Result of Stop   0.000000e+00\n",
              "6      Driver Gender  1.137851e-195\n",
              "4        Driver Race  5.338474e-160\n",
              "2       Officer Race   2.020537e-28\n",
              "3     Officer Gender   4.963004e-08\n",
              "5    Driver Hispanic   1.837276e-04\n",
              "0              Month   1.871583e-03"
            ]
          },
          "metadata": {
            "tags": []
          },
          "execution_count": 239
        }
      ]
    },
    {
      "cell_type": "code",
      "metadata": {
        "id": "by_ry8wehP2k",
        "colab_type": "code",
        "colab": {}
      },
      "source": [
        "df2 = pd.crosstab(df['Result of Stop'], df['Reason for Stop'], margins= True, normalize= True)*100"
      ],
      "execution_count": 240,
      "outputs": []
    },
    {
      "cell_type": "code",
      "metadata": {
        "id": "vWKW9dm6iC4g",
        "colab_type": "code",
        "colab": {
          "base_uri": "https://localhost:8080/",
          "height": 266
        },
        "outputId": "06943223-4131-48a2-f0b2-48d61f887f97"
      },
      "source": [
        "# Sorting values smallest to largest to create cleaner graph\n",
        "df2 = df2.sort_values(by= 'All', axis= 1)\n",
        "df2"
      ],
      "execution_count": 241,
      "outputs": [
        {
          "output_type": "execute_result",
          "data": {
            "text/html": [
              "<div>\n",
              "<style scoped>\n",
              "    .dataframe tbody tr th:only-of-type {\n",
              "        vertical-align: middle;\n",
              "    }\n",
              "\n",
              "    .dataframe tbody tr th {\n",
              "        vertical-align: top;\n",
              "    }\n",
              "\n",
              "    .dataframe thead th {\n",
              "        text-align: right;\n",
              "    }\n",
              "</style>\n",
              "<table border=\"1\" class=\"dataframe\">\n",
              "  <thead>\n",
              "    <tr style=\"text-align: right;\">\n",
              "      <th>Reason for Stop</th>\n",
              "      <th>2</th>\n",
              "      <th>1</th>\n",
              "      <th>6</th>\n",
              "      <th>4</th>\n",
              "      <th>3</th>\n",
              "      <th>5</th>\n",
              "      <th>9</th>\n",
              "      <th>8</th>\n",
              "      <th>7</th>\n",
              "      <th>10</th>\n",
              "      <th>All</th>\n",
              "    </tr>\n",
              "    <tr>\n",
              "      <th>Result of Stop</th>\n",
              "      <th></th>\n",
              "      <th></th>\n",
              "      <th></th>\n",
              "      <th></th>\n",
              "      <th></th>\n",
              "      <th></th>\n",
              "      <th></th>\n",
              "      <th></th>\n",
              "      <th></th>\n",
              "      <th></th>\n",
              "      <th></th>\n",
              "    </tr>\n",
              "  </thead>\n",
              "  <tbody>\n",
              "    <tr>\n",
              "      <th>1</th>\n",
              "      <td>0.003755</td>\n",
              "      <td>0.011266</td>\n",
              "      <td>0.007511</td>\n",
              "      <td>0.250363</td>\n",
              "      <td>0.503230</td>\n",
              "      <td>0.068850</td>\n",
              "      <td>0.186520</td>\n",
              "      <td>0.058835</td>\n",
              "      <td>0.115167</td>\n",
              "      <td>1.190476</td>\n",
              "      <td>2.395974</td>\n",
              "    </tr>\n",
              "    <tr>\n",
              "      <th>2</th>\n",
              "      <td>0.017525</td>\n",
              "      <td>0.045065</td>\n",
              "      <td>0.388063</td>\n",
              "      <td>1.032747</td>\n",
              "      <td>0.843723</td>\n",
              "      <td>4.102198</td>\n",
              "      <td>7.155375</td>\n",
              "      <td>6.443092</td>\n",
              "      <td>8.617495</td>\n",
              "      <td>21.513695</td>\n",
              "      <td>50.158981</td>\n",
              "    </tr>\n",
              "    <tr>\n",
              "      <th>3</th>\n",
              "      <td>0.000000</td>\n",
              "      <td>0.005007</td>\n",
              "      <td>0.026288</td>\n",
              "      <td>0.177758</td>\n",
              "      <td>0.062591</td>\n",
              "      <td>0.230334</td>\n",
              "      <td>0.389315</td>\n",
              "      <td>0.505733</td>\n",
              "      <td>1.689950</td>\n",
              "      <td>1.162936</td>\n",
              "      <td>4.249912</td>\n",
              "    </tr>\n",
              "    <tr>\n",
              "      <th>4</th>\n",
              "      <td>0.013770</td>\n",
              "      <td>0.269140</td>\n",
              "      <td>0.331731</td>\n",
              "      <td>0.817435</td>\n",
              "      <td>0.794903</td>\n",
              "      <td>1.512193</td>\n",
              "      <td>1.473386</td>\n",
              "      <td>2.806570</td>\n",
              "      <td>17.141105</td>\n",
              "      <td>16.057033</td>\n",
              "      <td>41.217265</td>\n",
              "    </tr>\n",
              "    <tr>\n",
              "      <th>5</th>\n",
              "      <td>0.107656</td>\n",
              "      <td>0.027540</td>\n",
              "      <td>0.036303</td>\n",
              "      <td>0.132692</td>\n",
              "      <td>0.289169</td>\n",
              "      <td>0.128937</td>\n",
              "      <td>0.227830</td>\n",
              "      <td>0.132692</td>\n",
              "      <td>0.254118</td>\n",
              "      <td>0.640929</td>\n",
              "      <td>1.977868</td>\n",
              "    </tr>\n",
              "    <tr>\n",
              "      <th>All</th>\n",
              "      <td>0.142707</td>\n",
              "      <td>0.358019</td>\n",
              "      <td>0.789895</td>\n",
              "      <td>2.410996</td>\n",
              "      <td>2.493616</td>\n",
              "      <td>6.042512</td>\n",
              "      <td>9.432427</td>\n",
              "      <td>9.946923</td>\n",
              "      <td>27.817836</td>\n",
              "      <td>40.565069</td>\n",
              "      <td>100.000000</td>\n",
              "    </tr>\n",
              "  </tbody>\n",
              "</table>\n",
              "</div>"
            ],
            "text/plain": [
              "Reason for Stop         2         1         6  ...          7         10         All\n",
              "Result of Stop                                 ...                                  \n",
              "1                0.003755  0.011266  0.007511  ...   0.115167   1.190476    2.395974\n",
              "2                0.017525  0.045065  0.388063  ...   8.617495  21.513695   50.158981\n",
              "3                0.000000  0.005007  0.026288  ...   1.689950   1.162936    4.249912\n",
              "4                0.013770  0.269140  0.331731  ...  17.141105  16.057033   41.217265\n",
              "5                0.107656  0.027540  0.036303  ...   0.254118   0.640929    1.977868\n",
              "All              0.142707  0.358019  0.789895  ...  27.817836  40.565069  100.000000\n",
              "\n",
              "[6 rows x 11 columns]"
            ]
          },
          "metadata": {
            "tags": []
          },
          "execution_count": 241
        }
      ]
    },
    {
      "cell_type": "code",
      "metadata": {
        "id": "xI4LpTG1ikzF",
        "colab_type": "code",
        "colab": {
          "base_uri": "https://localhost:8080/",
          "height": 516
        },
        "outputId": "11bc4af8-984f-41d5-ec07-57ff6c33a363"
      },
      "source": [
        "fig, ax = plt.subplots()\n",
        "plt.style.use('fivethirtyeight')\n",
        "\n",
        "color = sns.color_palette('hls', 5)\n",
        "\n",
        "k = 0 # Used k to keep track of where to plt on the x-axis\n",
        "for x in df2.columns[:-1]:\n",
        "  foundation = 0\n",
        "  k += 1\n",
        "  for i in df2.index[:-1]:\n",
        "    height = df2[x][i]\n",
        "    ax.bar(x= k, bottom= foundation, height= height, width= 0.97, color= color[5-i])\n",
        "    foundation += height\n",
        "\n",
        "# Adding text to highlight attributes of the data\n",
        "ax.text(0.75, 0.3, s= '0.14%', fontsize= 16)\n",
        "ax.text(2.75, 1.5, s= '0.79%', fontsize= 16)\n",
        "\n",
        "plt.title('Reason For and Result Of Traffic Stop')\n",
        "fig.set_figheight(7)\n",
        "fig.set_figwidth(15)\n",
        "fig.set_facecolor('lightgrey')\n",
        "ax.set_xlabel('Reason for Traffic Stop')\n",
        "ax.set_ylabel('Percent of Traffic Stops', fontsize= 'large')\n",
        "\n",
        "# Used bbox to anchor to move legend to appropriate spot\n",
        "ax.legend(labels= result_labels, fontsize= 'large', labelspacing= -2.5, frameon= False, loc= 'upper left', bbox_to_anchor = (0, 0.72))\n",
        "\n",
        "\n",
        "reason_labels = ['DWI','Checkpoint','Seatbelt','Other','Investigation','Safe\\nMovement','Vehicle\\nMovement','StopLight\\nor Sign','Speeding','Vehicle\\nRegistry']\n",
        "ax.set_xticklabels(reason_labels)\n",
        "ax.set_xticks(ticks= [1, 2, 3, 4, 5, 6, 7, 8, 9, 10])\n",
        "\n",
        "plt.savefig('reason_and_result.png', bbox_inches= 'tight')\n",
        "plt.show();"
      ],
      "execution_count": 243,
      "outputs": [
        {
          "output_type": "display_data",
          "data": {
            "image/png": "[encoded data removed]",
            "text/plain": [
              "<Figure size 1080x504 with 1 Axes>"
            ]
          },
          "metadata": {
            "tags": []
          }
        }
      ]
    },
    {
      "cell_type": "code",
      "metadata": {
        "id": "abJfjFHzbVCu",
        "colab_type": "code",
        "colab": {}
      },
      "source": [
        ""
      ],
      "execution_count": 242,
      "outputs": []
    }
  ]
}