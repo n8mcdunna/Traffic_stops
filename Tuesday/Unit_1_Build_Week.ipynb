{
  "nbformat": 4,
  "nbformat_minor": 0,
  "metadata": {
    "colab": {
      "name": "Unit 1 Build Week.ipynb",
      "provenance": [],
      "authorship_tag": "ABX9TyN2lLjq3kHga8IMfstfSMhQ",
      "include_colab_link": true
    },
    "kernelspec": {
      "name": "python3",
      "display_name": "Python 3"
    }
  },
  "cells": [
    {
      "cell_type": "markdown",
      "metadata": {
        "id": "view-in-github",
        "colab_type": "text"
      },
      "source": [
        "<a href=\"https://colab.research.google.com/github/n8mcdunna/Traffic_stops/blob/master/Tuesday/Unit_1_Build_Week.ipynb\" target=\"_parent\"><img src=\"https://colab.research.google.com/assets/colab-badge.svg\" alt=\"Open In Colab\"/></a>"
      ]
    },
    {
      "cell_type": "markdown",
      "metadata": {
        "id": "vqXhW-ZRZT6C",
        "colab_type": "text"
      },
      "source": [
        "Variables/Names\n",
        "Month 1-12  (Month)\n",
        "Reason for Stop  (RsnStop)\n",
        "Officer Race  (OffRace)\n",
        "Officer Male   (OffMale)\n",
        "Officer Years Service   (OffYrsSrv)\n",
        "Driver Race   (DrvRace)\n",
        "Driver Hispanic  (DrvHisp)\n",
        "Driver Male   (DrvMale)\n",
        "Driver Age  (DrvAge)\n",
        "Search Vehicle (SrchVhcl)\n",
        "Result of Stop (RsltStop)"
      ]
    },
    {
      "cell_type": "code",
      "metadata": {
        "id": "ihF93uDVzpFS",
        "colab_type": "code",
        "colab": {}
      },
      "source": [
        "import pandas as pd\n",
        "import numpy as np\n",
        "import matplotlib.pyplot as plt\n",
        "import seaborn as sns\n",
        "from scipy.stats import chi2_contingency"
      ],
      "execution_count": 57,
      "outputs": []
    },
    {
      "cell_type": "code",
      "metadata": {
        "id": "M1zWeDiTz164",
        "colab_type": "code",
        "colab": {}
      },
      "source": [
        "df = pd.read_csv('http://users.stat.ufl.edu/~winner/data/trafficstop.csv')"
      ],
      "execution_count": 58,
      "outputs": []
    },
    {
      "cell_type": "code",
      "metadata": {
        "id": "FAQhY9vHU9Mz",
        "colab_type": "code",
        "colab": {}
      },
      "source": [
        "# Description of data http://users.stat.ufl.edu/~winner/data/trafficstop.txt"
      ],
      "execution_count": null,
      "outputs": []
    },
    {
      "cell_type": "code",
      "metadata": {
        "id": "M-mVC_Ss46hy",
        "colab_type": "code",
        "colab": {}
      },
      "source": [
        "df.columns = ['Month', 'Reason for Stop', 'Officer Race', 'Officer Gender', 'Officer Years of Service', 'Driver Race', 'Driver Hispanic', \n",
        "              'Driver Gender', 'Driver Age', 'Search of Vehicle', 'Result of Stop']\n",
        "reason_labels = ['Checkpoint', 'DWI', 'Investigation', 'Other', 'Safe\\nMovement', 'Seatbelt', 'Speeding', 'StopLight\\nor Sign', 'Vehicle\\nMovement', 'Vehicle\\nRegistry']\n",
        "officer_race_labels = ['Native American', 'Asian', 'African American', 'Hispanic', 'White', 'Unspecified']\n",
        "driver_race_labels = ['Asian', 'African American', 'Native American', 'Other/Unknown', 'White']\n",
        "result_labels = ['No Action Taken', 'Verbal Warning', 'Written Warning', 'Citation', 'Arrest']"
      ],
      "execution_count": 169,
      "outputs": []
    },
    {
      "cell_type": "code",
      "metadata": {
        "id": "MxHVX6L2xUvI",
        "colab_type": "code",
        "colab": {}
      },
      "source": [
        "df['Officer Race'] = df['Officer Race'].replace(np.nan, 6) # replacing NaNs in officer race with 6. NaN did stand for undefined"
      ],
      "execution_count": 60,
      "outputs": []
    },
    {
      "cell_type": "code",
      "metadata": {
        "id": "7MkIVR3EZrsS",
        "colab_type": "code",
        "colab": {}
      },
      "source": [
        "cat_variables = df.loc[:,['Month', 'Reason for Stop', 'Officer Race', 'Officer Gender', 'Driver Race', 'Driver Hispanic', 'Driver Gender', 'Search of Vehicle', 'Result of Stop']]\n",
        "num_variables = df.loc[:,['Officer Years of Service', 'Driver Age']]\n",
        "men = df[df['Driver Gender'] == 1]\n",
        "women = df[df['Driver Gender'] == 0]"
      ],
      "execution_count": 7,
      "outputs": []
    },
    {
      "cell_type": "code",
      "metadata": {
        "id": "-pF2RwDwz_Gz",
        "colab_type": "code",
        "colab": {
          "base_uri": "https://localhost:8080/",
          "height": 238
        },
        "outputId": "e0cc005a-72aa-43ac-9fda-52905781270f"
      },
      "source": [
        "print(df.shape)\n",
        "df.head()"
      ],
      "execution_count": 8,
      "outputs": [
        {
          "output_type": "stream",
          "text": [
            "(79884, 11)\n"
          ],
          "name": "stdout"
        },
        {
          "output_type": "execute_result",
          "data": {
            "text/html": [
              "<div>\n",
              "<style scoped>\n",
              "    .dataframe tbody tr th:only-of-type {\n",
              "        vertical-align: middle;\n",
              "    }\n",
              "\n",
              "    .dataframe tbody tr th {\n",
              "        vertical-align: top;\n",
              "    }\n",
              "\n",
              "    .dataframe thead th {\n",
              "        text-align: right;\n",
              "    }\n",
              "</style>\n",
              "<table border=\"1\" class=\"dataframe\">\n",
              "  <thead>\n",
              "    <tr style=\"text-align: right;\">\n",
              "      <th></th>\n",
              "      <th>Month</th>\n",
              "      <th>Reason for Stop</th>\n",
              "      <th>Officer Race</th>\n",
              "      <th>Officer Gender</th>\n",
              "      <th>Officer Years of Service</th>\n",
              "      <th>Driver Race</th>\n",
              "      <th>Driver Hispanic</th>\n",
              "      <th>Driver Gender</th>\n",
              "      <th>Driver Age</th>\n",
              "      <th>Search of Vehicle</th>\n",
              "      <th>Result of Stop</th>\n",
              "    </tr>\n",
              "  </thead>\n",
              "  <tbody>\n",
              "    <tr>\n",
              "      <th>0</th>\n",
              "      <td>8</td>\n",
              "      <td>8</td>\n",
              "      <td>3.0</td>\n",
              "      <td>0</td>\n",
              "      <td>22</td>\n",
              "      <td>2</td>\n",
              "      <td>2</td>\n",
              "      <td>1</td>\n",
              "      <td>40</td>\n",
              "      <td>0</td>\n",
              "      <td>2</td>\n",
              "    </tr>\n",
              "    <tr>\n",
              "      <th>1</th>\n",
              "      <td>1</td>\n",
              "      <td>8</td>\n",
              "      <td>5.0</td>\n",
              "      <td>1</td>\n",
              "      <td>18</td>\n",
              "      <td>2</td>\n",
              "      <td>2</td>\n",
              "      <td>1</td>\n",
              "      <td>26</td>\n",
              "      <td>1</td>\n",
              "      <td>4</td>\n",
              "    </tr>\n",
              "    <tr>\n",
              "      <th>2</th>\n",
              "      <td>1</td>\n",
              "      <td>8</td>\n",
              "      <td>5.0</td>\n",
              "      <td>1</td>\n",
              "      <td>18</td>\n",
              "      <td>2</td>\n",
              "      <td>2</td>\n",
              "      <td>0</td>\n",
              "      <td>25</td>\n",
              "      <td>0</td>\n",
              "      <td>2</td>\n",
              "    </tr>\n",
              "    <tr>\n",
              "      <th>3</th>\n",
              "      <td>11</td>\n",
              "      <td>7</td>\n",
              "      <td>3.0</td>\n",
              "      <td>0</td>\n",
              "      <td>23</td>\n",
              "      <td>5</td>\n",
              "      <td>1</td>\n",
              "      <td>1</td>\n",
              "      <td>41</td>\n",
              "      <td>0</td>\n",
              "      <td>2</td>\n",
              "    </tr>\n",
              "    <tr>\n",
              "      <th>4</th>\n",
              "      <td>12</td>\n",
              "      <td>7</td>\n",
              "      <td>3.0</td>\n",
              "      <td>0</td>\n",
              "      <td>23</td>\n",
              "      <td>5</td>\n",
              "      <td>2</td>\n",
              "      <td>1</td>\n",
              "      <td>53</td>\n",
              "      <td>0</td>\n",
              "      <td>2</td>\n",
              "    </tr>\n",
              "  </tbody>\n",
              "</table>\n",
              "</div>"
            ],
            "text/plain": [
              "   Month  Reason for Stop  ...  Search of Vehicle  Result of Stop\n",
              "0      8                8  ...                  0               2\n",
              "1      1                8  ...                  1               4\n",
              "2      1                8  ...                  0               2\n",
              "3     11                7  ...                  0               2\n",
              "4     12                7  ...                  0               2\n",
              "\n",
              "[5 rows x 11 columns]"
            ]
          },
          "metadata": {
            "tags": []
          },
          "execution_count": 8
        }
      ]
    },
    {
      "cell_type": "code",
      "metadata": {
        "id": "usrwESCZd5t1",
        "colab_type": "code",
        "colab": {
          "base_uri": "https://localhost:8080/",
          "height": 255
        },
        "outputId": "7211b629-9107-4003-a6a0-714e7aa5c4df"
      },
      "source": [
        "print(men.shape)\n",
        "print(women.shape)\n",
        "men.head()"
      ],
      "execution_count": 8,
      "outputs": [
        {
          "output_type": "stream",
          "text": [
            "(46294, 11)\n",
            "(33590, 11)\n"
          ],
          "name": "stdout"
        },
        {
          "output_type": "execute_result",
          "data": {
            "text/html": [
              "<div>\n",
              "<style scoped>\n",
              "    .dataframe tbody tr th:only-of-type {\n",
              "        vertical-align: middle;\n",
              "    }\n",
              "\n",
              "    .dataframe tbody tr th {\n",
              "        vertical-align: top;\n",
              "    }\n",
              "\n",
              "    .dataframe thead th {\n",
              "        text-align: right;\n",
              "    }\n",
              "</style>\n",
              "<table border=\"1\" class=\"dataframe\">\n",
              "  <thead>\n",
              "    <tr style=\"text-align: right;\">\n",
              "      <th></th>\n",
              "      <th>Month</th>\n",
              "      <th>Reason for Stop</th>\n",
              "      <th>Officer Race</th>\n",
              "      <th>Officer Gender</th>\n",
              "      <th>Officer Years of Service</th>\n",
              "      <th>Driver Race</th>\n",
              "      <th>Driver Hispanic</th>\n",
              "      <th>Driver Gender</th>\n",
              "      <th>Driver Age</th>\n",
              "      <th>Search of Vehicle</th>\n",
              "      <th>Result of Stop</th>\n",
              "    </tr>\n",
              "  </thead>\n",
              "  <tbody>\n",
              "    <tr>\n",
              "      <th>0</th>\n",
              "      <td>8</td>\n",
              "      <td>8</td>\n",
              "      <td>3.0</td>\n",
              "      <td>0</td>\n",
              "      <td>22</td>\n",
              "      <td>2</td>\n",
              "      <td>2</td>\n",
              "      <td>1</td>\n",
              "      <td>40</td>\n",
              "      <td>0</td>\n",
              "      <td>2</td>\n",
              "    </tr>\n",
              "    <tr>\n",
              "      <th>1</th>\n",
              "      <td>1</td>\n",
              "      <td>8</td>\n",
              "      <td>5.0</td>\n",
              "      <td>1</td>\n",
              "      <td>18</td>\n",
              "      <td>2</td>\n",
              "      <td>2</td>\n",
              "      <td>1</td>\n",
              "      <td>26</td>\n",
              "      <td>1</td>\n",
              "      <td>4</td>\n",
              "    </tr>\n",
              "    <tr>\n",
              "      <th>3</th>\n",
              "      <td>11</td>\n",
              "      <td>7</td>\n",
              "      <td>3.0</td>\n",
              "      <td>0</td>\n",
              "      <td>23</td>\n",
              "      <td>5</td>\n",
              "      <td>1</td>\n",
              "      <td>1</td>\n",
              "      <td>41</td>\n",
              "      <td>0</td>\n",
              "      <td>2</td>\n",
              "    </tr>\n",
              "    <tr>\n",
              "      <th>4</th>\n",
              "      <td>12</td>\n",
              "      <td>7</td>\n",
              "      <td>3.0</td>\n",
              "      <td>0</td>\n",
              "      <td>23</td>\n",
              "      <td>5</td>\n",
              "      <td>2</td>\n",
              "      <td>1</td>\n",
              "      <td>53</td>\n",
              "      <td>0</td>\n",
              "      <td>2</td>\n",
              "    </tr>\n",
              "    <tr>\n",
              "      <th>5</th>\n",
              "      <td>4</td>\n",
              "      <td>10</td>\n",
              "      <td>5.0</td>\n",
              "      <td>1</td>\n",
              "      <td>22</td>\n",
              "      <td>2</td>\n",
              "      <td>2</td>\n",
              "      <td>1</td>\n",
              "      <td>24</td>\n",
              "      <td>0</td>\n",
              "      <td>2</td>\n",
              "    </tr>\n",
              "  </tbody>\n",
              "</table>\n",
              "</div>"
            ],
            "text/plain": [
              "   Month  Reason for Stop  ...  Search of Vehicle  Result of Stop\n",
              "0      8                8  ...                  0               2\n",
              "1      1                8  ...                  1               4\n",
              "3     11                7  ...                  0               2\n",
              "4     12                7  ...                  0               2\n",
              "5      4               10  ...                  0               2\n",
              "\n",
              "[5 rows x 11 columns]"
            ]
          },
          "metadata": {
            "tags": []
          },
          "execution_count": 8
        }
      ]
    },
    {
      "cell_type": "code",
      "metadata": {
        "id": "rYhB5gMDYrdB",
        "colab_type": "code",
        "colab": {
          "base_uri": "https://localhost:8080/",
          "height": 221
        },
        "outputId": "be810680-db26-4a0a-d3d1-de4e2ccb137d"
      },
      "source": [
        "men['Driver Age'].value_counts()"
      ],
      "execution_count": 9,
      "outputs": [
        {
          "output_type": "execute_result",
          "data": {
            "text/plain": [
              "30    3273\n",
              "25    3033\n",
              "40    2535\n",
              "35    2288\n",
              "45    1889\n",
              "      ... \n",
              "10       1\n",
              "91       1\n",
              "92       1\n",
              "13       1\n",
              "12       1\n",
              "Name: Driver Age, Length: 83, dtype: int64"
            ]
          },
          "metadata": {
            "tags": []
          },
          "execution_count": 9
        }
      ]
    },
    {
      "cell_type": "code",
      "metadata": {
        "id": "LHqMtw4kqIG5",
        "colab_type": "code",
        "colab": {
          "base_uri": "https://localhost:8080/",
          "height": 436
        },
        "outputId": "325919e8-95e8-41bf-b6cf-8f4cfecfce30"
      },
      "source": [
        "men.sort_values(by= 'Driver Age')"
      ],
      "execution_count": 110,
      "outputs": [
        {
          "output_type": "execute_result",
          "data": {
            "text/html": [
              "<div>\n",
              "<style scoped>\n",
              "    .dataframe tbody tr th:only-of-type {\n",
              "        vertical-align: middle;\n",
              "    }\n",
              "\n",
              "    .dataframe tbody tr th {\n",
              "        vertical-align: top;\n",
              "    }\n",
              "\n",
              "    .dataframe thead th {\n",
              "        text-align: right;\n",
              "    }\n",
              "</style>\n",
              "<table border=\"1\" class=\"dataframe\">\n",
              "  <thead>\n",
              "    <tr style=\"text-align: right;\">\n",
              "      <th></th>\n",
              "      <th>Month</th>\n",
              "      <th>Reason for Stop</th>\n",
              "      <th>Officer Race</th>\n",
              "      <th>Officer Gender</th>\n",
              "      <th>Officer Years of Service</th>\n",
              "      <th>Driver Race</th>\n",
              "      <th>Driver Hispanic</th>\n",
              "      <th>Driver Gender</th>\n",
              "      <th>Driver Age</th>\n",
              "      <th>Search of Vehicle</th>\n",
              "      <th>Result of Stop</th>\n",
              "      <th>Age Group</th>\n",
              "    </tr>\n",
              "  </thead>\n",
              "  <tbody>\n",
              "    <tr>\n",
              "      <th>27896</th>\n",
              "      <td>4</td>\n",
              "      <td>5</td>\n",
              "      <td>5.0</td>\n",
              "      <td>1</td>\n",
              "      <td>20</td>\n",
              "      <td>2</td>\n",
              "      <td>2</td>\n",
              "      <td>1</td>\n",
              "      <td>10</td>\n",
              "      <td>0</td>\n",
              "      <td>3</td>\n",
              "      <td>2-18</td>\n",
              "    </tr>\n",
              "    <tr>\n",
              "      <th>5762</th>\n",
              "      <td>1</td>\n",
              "      <td>3</td>\n",
              "      <td>5.0</td>\n",
              "      <td>1</td>\n",
              "      <td>3</td>\n",
              "      <td>2</td>\n",
              "      <td>2</td>\n",
              "      <td>1</td>\n",
              "      <td>12</td>\n",
              "      <td>0</td>\n",
              "      <td>2</td>\n",
              "      <td>2-18</td>\n",
              "    </tr>\n",
              "    <tr>\n",
              "      <th>48058</th>\n",
              "      <td>7</td>\n",
              "      <td>5</td>\n",
              "      <td>5.0</td>\n",
              "      <td>1</td>\n",
              "      <td>17</td>\n",
              "      <td>2</td>\n",
              "      <td>2</td>\n",
              "      <td>1</td>\n",
              "      <td>13</td>\n",
              "      <td>1</td>\n",
              "      <td>5</td>\n",
              "      <td>2-18</td>\n",
              "    </tr>\n",
              "    <tr>\n",
              "      <th>10034</th>\n",
              "      <td>2</td>\n",
              "      <td>8</td>\n",
              "      <td>3.0</td>\n",
              "      <td>1</td>\n",
              "      <td>8</td>\n",
              "      <td>2</td>\n",
              "      <td>2</td>\n",
              "      <td>1</td>\n",
              "      <td>14</td>\n",
              "      <td>0</td>\n",
              "      <td>2</td>\n",
              "      <td>2-18</td>\n",
              "    </tr>\n",
              "    <tr>\n",
              "      <th>76159</th>\n",
              "      <td>11</td>\n",
              "      <td>5</td>\n",
              "      <td>3.0</td>\n",
              "      <td>0</td>\n",
              "      <td>3</td>\n",
              "      <td>5</td>\n",
              "      <td>1</td>\n",
              "      <td>1</td>\n",
              "      <td>14</td>\n",
              "      <td>0</td>\n",
              "      <td>4</td>\n",
              "      <td>2-18</td>\n",
              "    </tr>\n",
              "    <tr>\n",
              "      <th>...</th>\n",
              "      <td>...</td>\n",
              "      <td>...</td>\n",
              "      <td>...</td>\n",
              "      <td>...</td>\n",
              "      <td>...</td>\n",
              "      <td>...</td>\n",
              "      <td>...</td>\n",
              "      <td>...</td>\n",
              "      <td>...</td>\n",
              "      <td>...</td>\n",
              "      <td>...</td>\n",
              "      <td>...</td>\n",
              "    </tr>\n",
              "    <tr>\n",
              "      <th>43432</th>\n",
              "      <td>6</td>\n",
              "      <td>5</td>\n",
              "      <td>4.0</td>\n",
              "      <td>1</td>\n",
              "      <td>11</td>\n",
              "      <td>5</td>\n",
              "      <td>2</td>\n",
              "      <td>1</td>\n",
              "      <td>91</td>\n",
              "      <td>0</td>\n",
              "      <td>2</td>\n",
              "      <td>65+</td>\n",
              "    </tr>\n",
              "    <tr>\n",
              "      <th>76255</th>\n",
              "      <td>11</td>\n",
              "      <td>7</td>\n",
              "      <td>5.0</td>\n",
              "      <td>1</td>\n",
              "      <td>28</td>\n",
              "      <td>5</td>\n",
              "      <td>2</td>\n",
              "      <td>1</td>\n",
              "      <td>92</td>\n",
              "      <td>0</td>\n",
              "      <td>2</td>\n",
              "      <td>65+</td>\n",
              "    </tr>\n",
              "    <tr>\n",
              "      <th>72913</th>\n",
              "      <td>11</td>\n",
              "      <td>10</td>\n",
              "      <td>5.0</td>\n",
              "      <td>1</td>\n",
              "      <td>4</td>\n",
              "      <td>4</td>\n",
              "      <td>2</td>\n",
              "      <td>1</td>\n",
              "      <td>99</td>\n",
              "      <td>0</td>\n",
              "      <td>1</td>\n",
              "      <td>65+</td>\n",
              "    </tr>\n",
              "    <tr>\n",
              "      <th>38572</th>\n",
              "      <td>5</td>\n",
              "      <td>7</td>\n",
              "      <td>5.0</td>\n",
              "      <td>1</td>\n",
              "      <td>6</td>\n",
              "      <td>4</td>\n",
              "      <td>2</td>\n",
              "      <td>1</td>\n",
              "      <td>99</td>\n",
              "      <td>1</td>\n",
              "      <td>1</td>\n",
              "      <td>65+</td>\n",
              "    </tr>\n",
              "    <tr>\n",
              "      <th>22645</th>\n",
              "      <td>3</td>\n",
              "      <td>4</td>\n",
              "      <td>5.0</td>\n",
              "      <td>1</td>\n",
              "      <td>8</td>\n",
              "      <td>2</td>\n",
              "      <td>2</td>\n",
              "      <td>1</td>\n",
              "      <td>99</td>\n",
              "      <td>0</td>\n",
              "      <td>1</td>\n",
              "      <td>65+</td>\n",
              "    </tr>\n",
              "  </tbody>\n",
              "</table>\n",
              "<p>46294 rows × 12 columns</p>\n",
              "</div>"
            ],
            "text/plain": [
              "       Month  Reason for Stop  ...  Result of Stop  Age Group\n",
              "27896      4                5  ...               3       2-18\n",
              "5762       1                3  ...               2       2-18\n",
              "48058      7                5  ...               5       2-18\n",
              "10034      2                8  ...               2       2-18\n",
              "76159     11                5  ...               4       2-18\n",
              "...      ...              ...  ...             ...        ...\n",
              "43432      6                5  ...               2        65+\n",
              "76255     11                7  ...               2        65+\n",
              "72913     11               10  ...               1        65+\n",
              "38572      5                7  ...               1        65+\n",
              "22645      3                4  ...               1        65+\n",
              "\n",
              "[46294 rows x 12 columns]"
            ]
          },
          "metadata": {
            "tags": []
          },
          "execution_count": 110
        }
      ]
    },
    {
      "cell_type": "code",
      "metadata": {
        "id": "zdMEyzjNqkXw",
        "colab_type": "code",
        "colab": {
          "base_uri": "https://localhost:8080/",
          "height": 221
        },
        "outputId": "ce82e2cf-664a-42c1-ae40-e21804799bdf"
      },
      "source": [
        "men['Driver Age'].value_counts()"
      ],
      "execution_count": 111,
      "outputs": [
        {
          "output_type": "execute_result",
          "data": {
            "text/plain": [
              "30    3273\n",
              "25    3033\n",
              "40    2535\n",
              "35    2288\n",
              "45    1889\n",
              "      ... \n",
              "10       1\n",
              "91       1\n",
              "92       1\n",
              "13       1\n",
              "12       1\n",
              "Name: Driver Age, Length: 83, dtype: int64"
            ]
          },
          "metadata": {
            "tags": []
          },
          "execution_count": 111
        }
      ]
    },
    {
      "cell_type": "code",
      "metadata": {
        "id": "k59idgFmZQCA",
        "colab_type": "code",
        "colab": {
          "base_uri": "https://localhost:8080/",
          "height": 34
        },
        "outputId": "892c034c-b903-43e2-fd29-3c1091486ddb"
      },
      "source": [
        "# Putting age into categories to make cleaner looking graph\n",
        "bins = [x for x in range(10, 80, 10)]\n",
        "names = ['<20', '20s', '30s', '40s', '50s', '60+']\n",
        "df['Age Group'] = pd.cut(df['Driver Age'], bins, labels= names)\n",
        "print(names[::-1])"
      ],
      "execution_count": 9,
      "outputs": [
        {
          "output_type": "stream",
          "text": [
            "['60+', '50s', '40s', '30s', '20s', '<20']\n"
          ],
          "name": "stdout"
        }
      ]
    },
    {
      "cell_type": "code",
      "metadata": {
        "id": "waBm3ecnbz1I",
        "colab_type": "code",
        "colab": {
          "base_uri": "https://localhost:8080/",
          "height": 136
        },
        "outputId": "fde68919-fdbe-4d7f-9d2c-29f1968004af"
      },
      "source": [
        "# Getting the male and female drivers age group totals\n",
        "male_drivers_by_age_group = df[df['Driver Gender'] == 1]['Age Group'].value_counts(ascending= True)\n",
        "female_drivers_by_age_group = df[df['Driver Gender'] == 0]['Age Group'].value_counts(ascending= True) * -1\n",
        "print(male_drivers_by_age_group)"
      ],
      "execution_count": 10,
      "outputs": [
        {
          "output_type": "stream",
          "text": [
            "60+     1531\n",
            "<20     3789\n",
            "50s     4447\n",
            "40s     7716\n",
            "30s    11366\n",
            "20s    16961\n",
            "Name: Age Group, dtype: int64\n"
          ],
          "name": "stdout"
        }
      ]
    },
    {
      "cell_type": "code",
      "metadata": {
        "id": "HBHWgTxchJFl",
        "colab_type": "code",
        "colab": {
          "base_uri": "https://localhost:8080/",
          "height": 383
        },
        "outputId": "b48e7ef7-890a-4fe7-e486-203417086638"
      },
      "source": [
        "fig, ax = plt.subplots()\n",
        "plt.style.use('fivethirtyeight')\n",
        "\n",
        "fig.set_figheight(5)\n",
        "fig.set_figwidth(10)\n",
        "\n",
        "bar_plot = sns.barplot(x= male_drivers_by_age_group, y= names[::-1])\n",
        "bar_plot = sns.barplot(x= female_drivers_by_age_group, y= names[::-1])\n",
        "midline = plt.vlines(x=0, ymin= -0.5, ymax= 5.5)\n",
        "\n",
        "\n",
        "bar_plot.set(xlabel= \"Traffic Stops\",\n",
        "             ylabel= 'Age Groups',\n",
        "             title= 'Traffic Stops by Gender',\n",
        "             xticklabels= ['15,000','10,000', '5,000', '', '5,000', '10,000', '15,000'])\n",
        "\n",
        "plt.show();"
      ],
      "execution_count": 20,
      "outputs": [
        {
          "output_type": "display_data",
          "data": {
            "image/png": "[encoded data removed]",
            "text/plain": [
              "<Figure size 720x360 with 1 Axes>"
            ]
          },
          "metadata": {
            "tags": []
          }
        }
      ]
    },
    {
      "cell_type": "code",
      "metadata": {
        "id": "mGw3i-Lfb5jf",
        "colab_type": "code",
        "colab": {}
      },
      "source": [
        "# Getting the male and female drivers age group totals\n",
        "drivers_by_age_group = df['Age Group'].value_counts(ascending= True)"
      ],
      "execution_count": 43,
      "outputs": []
    },
    {
      "cell_type": "code",
      "metadata": {
        "id": "zDkSq38ycJh2",
        "colab_type": "code",
        "colab": {
          "base_uri": "https://localhost:8080/",
          "height": 383
        },
        "outputId": "857e1f71-1d65-4011-f073-09289944ff23"
      },
      "source": [
        "fig, ax = plt.subplots()\n",
        "plt.style.use('fivethirtyeight')\n",
        "\n",
        "fig.set_figheight(5)\n",
        "fig.set_figwidth(10)\n",
        "\n",
        "bar_plot = sns.barplot(x= drivers_by_age_group, y= names[::-1])\n",
        "midline = plt.vlines(x=0, ymin= -0.5, ymax= 5.5)\n",
        "\n",
        "\n",
        "bar_plot.set(xlabel= \"Traffic Stops\",\n",
        "             ylabel= 'Age Groups',\n",
        "             title= 'Traffic Stops by Age Groups')\n",
        "\n",
        "plt.show();"
      ],
      "execution_count": 44,
      "outputs": [
        {
          "output_type": "display_data",
          "data": {
            "image/png": "[encoded data removed]",
            "text/plain": [
              "<Figure size 720x360 with 1 Axes>"
            ]
          },
          "metadata": {
            "tags": []
          }
        }
      ]
    },
    {
      "cell_type": "code",
      "metadata": {
        "id": "MjO_zlEK0t9j",
        "colab_type": "code",
        "colab": {
          "base_uri": "https://localhost:8080/",
          "height": 68
        },
        "outputId": "59641e89-402b-4158-9daf-673d5488dfa7"
      },
      "source": [
        "df['Driver Hispanic'].value_counts()"
      ],
      "execution_count": null,
      "outputs": [
        {
          "output_type": "execute_result",
          "data": {
            "text/plain": [
              "2    72306\n",
              "1     7578\n",
              "Name: Driver Hispanic, dtype: int64"
            ]
          },
          "metadata": {
            "tags": []
          },
          "execution_count": 59
        }
      ]
    },
    {
      "cell_type": "code",
      "metadata": {
        "id": "S3WnoFjHZo1p",
        "colab_type": "code",
        "colab": {
          "base_uri": "https://localhost:8080/",
          "height": 136
        },
        "outputId": "caff216a-823c-482c-a7db-bff26e681df6"
      },
      "source": [
        "# Getting the male and female drivers age group totals\n",
        "white_drivers_by_age_group = df[df['Driver Race'] == 5]['Age Group'].value_counts(ascending= True)\n",
        "black_drivers_by_age_group = df[df['Driver Race'] == 2]['Age Group'].value_counts(ascending= True) * -1\n",
        "print(black_drivers_by_age_group)"
      ],
      "execution_count": 33,
      "outputs": [
        {
          "output_type": "stream",
          "text": [
            "60+    -1090\n",
            "<20    -2961\n",
            "50s    -3538\n",
            "40s    -6808\n",
            "30s   -11019\n",
            "20s   -17342\n",
            "Name: Age Group, dtype: int64\n"
          ],
          "name": "stdout"
        }
      ]
    },
    {
      "cell_type": "code",
      "metadata": {
        "id": "1ff7iTJ_aZ9S",
        "colab_type": "code",
        "colab": {
          "base_uri": "https://localhost:8080/",
          "height": 383
        },
        "outputId": "a616aff9-bb9b-418e-b473-f8b3ab54310d"
      },
      "source": [
        "fig, ax = plt.subplots()\n",
        "plt.style.use('fivethirtyeight')\n",
        "\n",
        "fig.set_figheight(5)\n",
        "fig.set_figwidth(10)\n",
        "\n",
        "bar_plot = sns.barplot(x= white_drivers_by_age_group, y= names[::-1])\n",
        "bar_plot = sns.barplot(x= black_drivers_by_age_group, y= names[::-1])\n",
        "midline = plt.vlines(x=0, ymin= -0.5, ymax= 5.5)\n",
        "\n",
        "\n",
        "bar_plot.set(xlabel= \"Traffic Stops\",\n",
        "             ylabel= 'Age Groups',\n",
        "             title= 'Traffic Stops by Race and Age',\n",
        "             xticklabels= ['15,000','10,000', '5,000', '', '5,000', '10,000', '15,000'])\n",
        "\n",
        "plt.show();"
      ],
      "execution_count": 34,
      "outputs": [
        {
          "output_type": "display_data",
          "data": {
            "image/png": "[encoded data removed]",
            "text/plain": [
              "<Figure size 720x360 with 1 Axes>"
            ]
          },
          "metadata": {
            "tags": []
          }
        }
      ]
    },
    {
      "cell_type": "code",
      "metadata": {
        "id": "5Y-hzMqC5mTi",
        "colab_type": "code",
        "colab": {
          "base_uri": "https://localhost:8080/",
          "height": 268
        },
        "outputId": "25281ad6-d231-44fa-ea7f-d9a171c94079"
      },
      "source": [
        "plt.hist(df['Driver Gender'])\n",
        "plt.show()"
      ],
      "execution_count": null,
      "outputs": [
        {
          "output_type": "display_data",
          "data": {
            "image/png": "[encoded data removed]",
            "text/plain": [
              "<Figure size 432x288 with 1 Axes>"
            ]
          },
          "metadata": {
            "tags": []
          }
        }
      ]
    },
    {
      "cell_type": "code",
      "metadata": {
        "id": "fX388Rq75u-p",
        "colab_type": "code",
        "colab": {
          "base_uri": "https://localhost:8080/",
          "height": 268
        },
        "outputId": "c28957c9-f921-4935-f9fa-e93c6f48f1ba"
      },
      "source": [
        "plt.hist(df['Officer Gender'])\n",
        "plt.show()"
      ],
      "execution_count": null,
      "outputs": [
        {
          "output_type": "display_data",
          "data": {
            "image/png": "[encoded data removed]",
            "text/plain": [
              "<Figure size 432x288 with 1 Axes>"
            ]
          },
          "metadata": {
            "tags": []
          }
        }
      ]
    },
    {
      "cell_type": "code",
      "metadata": {
        "id": "cWJjS6Dn55RZ",
        "colab_type": "code",
        "colab": {
          "base_uri": "https://localhost:8080/",
          "height": 282
        },
        "outputId": "bfd2cdfc-3535-4cb1-8ff5-c779f05b8cec"
      },
      "source": [
        "plt.hist(df['Driver Age'])\n",
        "plt.show()"
      ],
      "execution_count": 18,
      "outputs": [
        {
          "output_type": "display_data",
          "data": {
            "image/png": "[encoded data removed]",
            "text/plain": [
              "<Figure size 432x288 with 1 Axes>"
            ]
          },
          "metadata": {
            "tags": []
          }
        }
      ]
    },
    {
      "cell_type": "code",
      "metadata": {
        "id": "GCI5oFZM5_x7",
        "colab_type": "code",
        "colab": {
          "base_uri": "https://localhost:8080/",
          "height": 268
        },
        "outputId": "3f433654-7899-4d2a-be91-ef2ee34d95d7"
      },
      "source": [
        "plt.hist(df['Officer Years of Service'])\n",
        "plt.show()"
      ],
      "execution_count": null,
      "outputs": [
        {
          "output_type": "display_data",
          "data": {
            "image/png": "[encoded data removed]",
            "text/plain": [
              "<Figure size 432x288 with 1 Axes>"
            ]
          },
          "metadata": {
            "tags": []
          }
        }
      ]
    },
    {
      "cell_type": "code",
      "metadata": {
        "id": "rWGXsZdi0zVF",
        "colab_type": "code",
        "colab": {
          "base_uri": "https://localhost:8080/",
          "height": 119
        },
        "outputId": "66264c9f-6152-4931-e93e-5b7ca7937445"
      },
      "source": [
        "df['Driver Race'].value_counts()"
      ],
      "execution_count": null,
      "outputs": [
        {
          "output_type": "execute_result",
          "data": {
            "text/plain": [
              "2    42970\n",
              "5    32969\n",
              "4     2422\n",
              "1     1461\n",
              "3       62\n",
              "Name: Driver Race, dtype: int64"
            ]
          },
          "metadata": {
            "tags": []
          },
          "execution_count": 61
        }
      ]
    },
    {
      "cell_type": "code",
      "metadata": {
        "id": "kaXhrOFQiai4",
        "colab_type": "code",
        "colab": {
          "base_uri": "https://localhost:8080/",
          "height": 271
        },
        "outputId": "8604a319-8e7a-4c81-c3ec-3d2a04a6c752"
      },
      "source": [
        "plt.hist(df['Month'])\n",
        "plt.show()"
      ],
      "execution_count": null,
      "outputs": [
        {
          "output_type": "display_data",
          "data": {
            "image/png": "[encoded data removed]",
            "text/plain": [
              "<Figure size 432x288 with 1 Axes>"
            ]
          },
          "metadata": {
            "tags": []
          }
        }
      ]
    },
    {
      "cell_type": "code",
      "metadata": {
        "id": "kAaTawVHblPg",
        "colab_type": "code",
        "colab": {
          "base_uri": "https://localhost:8080/",
          "height": 282
        },
        "outputId": "5bcb60df-54c0-4e81-ec85-750db29e047c"
      },
      "source": [
        "plt.hist(df['Driver Race'])\n",
        "plt.show()"
      ],
      "execution_count": 35,
      "outputs": [
        {
          "output_type": "display_data",
          "data": {
            "image/png": "[encoded data removed]",
            "text/plain": [
              "<Figure size 432x288 with 1 Axes>"
            ]
          },
          "metadata": {
            "tags": []
          }
        }
      ]
    },
    {
      "cell_type": "code",
      "metadata": {
        "id": "DyQGHW_cjHVv",
        "colab_type": "code",
        "colab": {
          "base_uri": "https://localhost:8080/",
          "height": 268
        },
        "outputId": "7014a72f-10b4-4918-ebc9-e0e03eb94c52"
      },
      "source": [
        "plt.hist(df['Reason for Stop'])\n",
        "plt.show()"
      ],
      "execution_count": null,
      "outputs": [
        {
          "output_type": "display_data",
          "data": {
            "image/png": "[encoded data removed]",
            "text/plain": [
              "<Figure size 432x288 with 1 Axes>"
            ]
          },
          "metadata": {
            "tags": []
          }
        }
      ]
    },
    {
      "cell_type": "code",
      "metadata": {
        "id": "UmwAtYpIjQxQ",
        "colab_type": "code",
        "colab": {
          "base_uri": "https://localhost:8080/",
          "height": 268
        },
        "outputId": "9eb80c4a-5a3f-40e1-a188-4335f37810be"
      },
      "source": [
        "plt.hist(df['Result of Stop'])\n",
        "plt.show()"
      ],
      "execution_count": null,
      "outputs": [
        {
          "output_type": "display_data",
          "data": {
            "image/png": "[encoded data removed]",
            "text/plain": [
              "<Figure size 432x288 with 1 Axes>"
            ]
          },
          "metadata": {
            "tags": []
          }
        }
      ]
    },
    {
      "cell_type": "code",
      "metadata": {
        "id": "CqbF5FpXjWiy",
        "colab_type": "code",
        "colab": {
          "base_uri": "https://localhost:8080/",
          "height": 270
        },
        "outputId": "94bfc694-4940-4432-f052-59f81c3955f5"
      },
      "source": [
        "plt.hist(df['Officer Race'])\n",
        "plt.show()"
      ],
      "execution_count": null,
      "outputs": [
        {
          "output_type": "display_data",
          "data": {
            "image/png": "[encoded data removed]",
            "text/plain": [
              "<Figure size 432x288 with 1 Axes>"
            ]
          },
          "metadata": {
            "tags": []
          }
        }
      ]
    },
    {
      "cell_type": "code",
      "metadata": {
        "id": "nEoWuNWvn7rX",
        "colab_type": "code",
        "colab": {
          "base_uri": "https://localhost:8080/",
          "height": 268
        },
        "outputId": "64e0766e-3596-4c1c-b930-0e3cb74c3aa1"
      },
      "source": [
        "arrests = df[df['Result of Stop'] == 5]\n",
        "plt.hist(arrests['Driver Race'])\n",
        "plt.show()"
      ],
      "execution_count": null,
      "outputs": [
        {
          "output_type": "display_data",
          "data": {
            "image/png": "[encoded data removed]",
            "text/plain": [
              "<Figure size 432x288 with 1 Axes>"
            ]
          },
          "metadata": {
            "tags": []
          }
        }
      ]
    },
    {
      "cell_type": "code",
      "metadata": {
        "id": "VKCSchQsokZB",
        "colab_type": "code",
        "colab": {
          "base_uri": "https://localhost:8080/",
          "height": 268
        },
        "outputId": "1ed7d2ae-7d15-4649-c3a9-09b28ef96964"
      },
      "source": [
        "plt.hist(arrests['Officer Race'])\n",
        "plt.show()"
      ],
      "execution_count": null,
      "outputs": [
        {
          "output_type": "display_data",
          "data": {
            "image/png": "[encoded data removed]",
            "text/plain": [
              "<Figure size 432x288 with 1 Axes>"
            ]
          },
          "metadata": {
            "tags": []
          }
        }
      ]
    },
    {
      "cell_type": "code",
      "metadata": {
        "id": "J0QuF978jkrN",
        "colab_type": "code",
        "colab": {
          "base_uri": "https://localhost:8080/",
          "height": 268
        },
        "outputId": "2c505237-35cb-4ac7-f888-c385ecd41c7d"
      },
      "source": [
        "plt.scatter(df['Reason for Stop'], df['Result of Stop'])\n",
        "plt.show()"
      ],
      "execution_count": null,
      "outputs": [
        {
          "output_type": "display_data",
          "data": {
            "image/png": "[encoded data removed]",
            "text/plain": [
              "<Figure size 432x288 with 1 Axes>"
            ]
          },
          "metadata": {
            "tags": []
          }
        }
      ]
    },
    {
      "cell_type": "code",
      "metadata": {
        "id": "i4FXdsF8lvzw",
        "colab_type": "code",
        "colab": {
          "base_uri": "https://localhost:8080/",
          "height": 610
        },
        "outputId": "5c03ab4d-bd8e-4852-ce05-23fafaa23ab3"
      },
      "source": [
        "df['Reason for Stop'].hist(by = df['Result of Stop'], figsize = (15,10));"
      ],
      "execution_count": null,
      "outputs": [
        {
          "output_type": "display_data",
          "data": {
            "image/png": "[encoded data removed]",
            "text/plain": [
              "<Figure size 1080x720 with 6 Axes>"
            ]
          },
          "metadata": {
            "tags": []
          }
        }
      ]
    },
    {
      "cell_type": "code",
      "metadata": {
        "id": "PNzPuUnMlg9T",
        "colab_type": "code",
        "colab": {
          "base_uri": "https://localhost:8080/",
          "height": 614
        },
        "outputId": "5e83acb3-4c9f-494e-c4e8-37a16e4163cb"
      },
      "source": [
        "df['Driver Race'].hist(by = df['Officer Race'], figsize = (15,10));\n"
      ],
      "execution_count": null,
      "outputs": [
        {
          "output_type": "display_data",
          "data": {
            "image/png": "[encoded data removed]",
            "text/plain": [
              "<Figure size 1080x720 with 6 Axes>"
            ]
          },
          "metadata": {
            "tags": []
          }
        }
      ]
    },
    {
      "cell_type": "code",
      "metadata": {
        "id": "o3Us8zuV2ORU",
        "colab_type": "code",
        "colab": {
          "base_uri": "https://localhost:8080/",
          "height": 266
        },
        "outputId": "84ebc736-9e63-4abf-ff44-abde456caefa"
      },
      "source": [
        ""
      ],
      "execution_count": null,
      "outputs": [
        {
          "output_type": "execute_result",
          "data": {
            "text/html": [
              "<div>\n",
              "<style scoped>\n",
              "    .dataframe tbody tr th:only-of-type {\n",
              "        vertical-align: middle;\n",
              "    }\n",
              "\n",
              "    .dataframe tbody tr th {\n",
              "        vertical-align: top;\n",
              "    }\n",
              "\n",
              "    .dataframe thead th {\n",
              "        text-align: right;\n",
              "    }\n",
              "</style>\n",
              "<table border=\"1\" class=\"dataframe\">\n",
              "  <thead>\n",
              "    <tr style=\"text-align: right;\">\n",
              "      <th>Officer Race</th>\n",
              "      <th>1.0</th>\n",
              "      <th>2.0</th>\n",
              "      <th>3.0</th>\n",
              "      <th>4.0</th>\n",
              "      <th>5.0</th>\n",
              "      <th>6.0</th>\n",
              "    </tr>\n",
              "    <tr>\n",
              "      <th>Driver Race</th>\n",
              "      <th></th>\n",
              "      <th></th>\n",
              "      <th></th>\n",
              "      <th></th>\n",
              "      <th></th>\n",
              "      <th></th>\n",
              "    </tr>\n",
              "  </thead>\n",
              "  <tbody>\n",
              "    <tr>\n",
              "      <th>1</th>\n",
              "      <td>0.068446</td>\n",
              "      <td>6.707734</td>\n",
              "      <td>15.195072</td>\n",
              "      <td>3.627652</td>\n",
              "      <td>73.374401</td>\n",
              "      <td>1.026694</td>\n",
              "    </tr>\n",
              "    <tr>\n",
              "      <th>2</th>\n",
              "      <td>0.393298</td>\n",
              "      <td>4.740517</td>\n",
              "      <td>18.017221</td>\n",
              "      <td>3.893414</td>\n",
              "      <td>72.127065</td>\n",
              "      <td>0.828485</td>\n",
              "    </tr>\n",
              "    <tr>\n",
              "      <th>3</th>\n",
              "      <td>0.000000</td>\n",
              "      <td>3.225806</td>\n",
              "      <td>30.645161</td>\n",
              "      <td>4.838710</td>\n",
              "      <td>59.677419</td>\n",
              "      <td>1.612903</td>\n",
              "    </tr>\n",
              "    <tr>\n",
              "      <th>4</th>\n",
              "      <td>0.536746</td>\n",
              "      <td>6.028076</td>\n",
              "      <td>22.460776</td>\n",
              "      <td>2.477291</td>\n",
              "      <td>66.350124</td>\n",
              "      <td>2.146986</td>\n",
              "    </tr>\n",
              "    <tr>\n",
              "      <th>5</th>\n",
              "      <td>0.175923</td>\n",
              "      <td>6.266493</td>\n",
              "      <td>16.254663</td>\n",
              "      <td>3.566987</td>\n",
              "      <td>72.835088</td>\n",
              "      <td>0.900846</td>\n",
              "    </tr>\n",
              "    <tr>\n",
              "      <th>All</th>\n",
              "      <td>0.301687</td>\n",
              "      <td>5.444144</td>\n",
              "      <td>17.382705</td>\n",
              "      <td>3.711632</td>\n",
              "      <td>72.257273</td>\n",
              "      <td>0.902559</td>\n",
              "    </tr>\n",
              "  </tbody>\n",
              "</table>\n",
              "</div>"
            ],
            "text/plain": [
              "Officer Race       1.0       2.0        3.0       4.0        5.0       6.0\n",
              "Driver Race                                                               \n",
              "1             0.068446  6.707734  15.195072  3.627652  73.374401  1.026694\n",
              "2             0.393298  4.740517  18.017221  3.893414  72.127065  0.828485\n",
              "3             0.000000  3.225806  30.645161  4.838710  59.677419  1.612903\n",
              "4             0.536746  6.028076  22.460776  2.477291  66.350124  2.146986\n",
              "5             0.175923  6.266493  16.254663  3.566987  72.835088  0.900846\n",
              "All           0.301687  5.444144  17.382705  3.711632  72.257273  0.902559"
            ]
          },
          "metadata": {
            "tags": []
          },
          "execution_count": 67
        }
      ]
    },
    {
      "cell_type": "code",
      "metadata": {
        "id": "vhIqdnmV3Bub",
        "colab_type": "code",
        "colab": {
          "base_uri": "https://localhost:8080/",
          "height": 34
        },
        "outputId": "30026160-2aa3-49ff-9f81-99997dffa579"
      },
      "source": [
        "g, p_value, dof, expected = chi2_contingency(pd.crosstab(df['Driver Age'], df['Officer Years of Service']))\n",
        "p_value"
      ],
      "execution_count": null,
      "outputs": [
        {
          "output_type": "execute_result",
          "data": {
            "text/plain": [
              "0.0"
            ]
          },
          "metadata": {
            "tags": []
          },
          "execution_count": 72
        }
      ]
    },
    {
      "cell_type": "code",
      "metadata": {
        "id": "wb1FLqZX4VNe",
        "colab_type": "code",
        "colab": {
          "base_uri": "https://localhost:8080/",
          "height": 450
        },
        "outputId": "787b005d-1bbd-4658-e1d1-24c35c6371d2"
      },
      "source": [
        "pd.crosstab(df['Driver Age'], df['Officer Race'], margins= True, normalize= 'index') * 100\n"
      ],
      "execution_count": null,
      "outputs": [
        {
          "output_type": "execute_result",
          "data": {
            "text/html": [
              "<div>\n",
              "<style scoped>\n",
              "    .dataframe tbody tr th:only-of-type {\n",
              "        vertical-align: middle;\n",
              "    }\n",
              "\n",
              "    .dataframe tbody tr th {\n",
              "        vertical-align: top;\n",
              "    }\n",
              "\n",
              "    .dataframe thead th {\n",
              "        text-align: right;\n",
              "    }\n",
              "</style>\n",
              "<table border=\"1\" class=\"dataframe\">\n",
              "  <thead>\n",
              "    <tr style=\"text-align: right;\">\n",
              "      <th>Officer Race</th>\n",
              "      <th>1.0</th>\n",
              "      <th>2.0</th>\n",
              "      <th>3.0</th>\n",
              "      <th>4.0</th>\n",
              "      <th>5.0</th>\n",
              "      <th>6.0</th>\n",
              "    </tr>\n",
              "    <tr>\n",
              "      <th>Driver Age</th>\n",
              "      <th></th>\n",
              "      <th></th>\n",
              "      <th></th>\n",
              "      <th></th>\n",
              "      <th></th>\n",
              "      <th></th>\n",
              "    </tr>\n",
              "  </thead>\n",
              "  <tbody>\n",
              "    <tr>\n",
              "      <th>10</th>\n",
              "      <td>0.000000</td>\n",
              "      <td>0.000000</td>\n",
              "      <td>0.000000</td>\n",
              "      <td>0.000000</td>\n",
              "      <td>100.000000</td>\n",
              "      <td>0.000000</td>\n",
              "    </tr>\n",
              "    <tr>\n",
              "      <th>12</th>\n",
              "      <td>0.000000</td>\n",
              "      <td>0.000000</td>\n",
              "      <td>0.000000</td>\n",
              "      <td>0.000000</td>\n",
              "      <td>100.000000</td>\n",
              "      <td>0.000000</td>\n",
              "    </tr>\n",
              "    <tr>\n",
              "      <th>13</th>\n",
              "      <td>0.000000</td>\n",
              "      <td>0.000000</td>\n",
              "      <td>0.000000</td>\n",
              "      <td>0.000000</td>\n",
              "      <td>100.000000</td>\n",
              "      <td>0.000000</td>\n",
              "    </tr>\n",
              "    <tr>\n",
              "      <th>14</th>\n",
              "      <td>0.000000</td>\n",
              "      <td>0.000000</td>\n",
              "      <td>66.666667</td>\n",
              "      <td>0.000000</td>\n",
              "      <td>33.333333</td>\n",
              "      <td>0.000000</td>\n",
              "    </tr>\n",
              "    <tr>\n",
              "      <th>15</th>\n",
              "      <td>0.000000</td>\n",
              "      <td>0.000000</td>\n",
              "      <td>3.225806</td>\n",
              "      <td>6.451613</td>\n",
              "      <td>90.322581</td>\n",
              "      <td>0.000000</td>\n",
              "    </tr>\n",
              "    <tr>\n",
              "      <th>...</th>\n",
              "      <td>...</td>\n",
              "      <td>...</td>\n",
              "      <td>...</td>\n",
              "      <td>...</td>\n",
              "      <td>...</td>\n",
              "      <td>...</td>\n",
              "    </tr>\n",
              "    <tr>\n",
              "      <th>91</th>\n",
              "      <td>0.000000</td>\n",
              "      <td>0.000000</td>\n",
              "      <td>0.000000</td>\n",
              "      <td>33.333333</td>\n",
              "      <td>66.666667</td>\n",
              "      <td>0.000000</td>\n",
              "    </tr>\n",
              "    <tr>\n",
              "      <th>92</th>\n",
              "      <td>0.000000</td>\n",
              "      <td>0.000000</td>\n",
              "      <td>0.000000</td>\n",
              "      <td>0.000000</td>\n",
              "      <td>100.000000</td>\n",
              "      <td>0.000000</td>\n",
              "    </tr>\n",
              "    <tr>\n",
              "      <th>93</th>\n",
              "      <td>0.000000</td>\n",
              "      <td>0.000000</td>\n",
              "      <td>0.000000</td>\n",
              "      <td>0.000000</td>\n",
              "      <td>100.000000</td>\n",
              "      <td>0.000000</td>\n",
              "    </tr>\n",
              "    <tr>\n",
              "      <th>99</th>\n",
              "      <td>0.000000</td>\n",
              "      <td>0.000000</td>\n",
              "      <td>0.000000</td>\n",
              "      <td>0.000000</td>\n",
              "      <td>100.000000</td>\n",
              "      <td>0.000000</td>\n",
              "    </tr>\n",
              "    <tr>\n",
              "      <th>All</th>\n",
              "      <td>0.301687</td>\n",
              "      <td>5.444144</td>\n",
              "      <td>17.382705</td>\n",
              "      <td>3.711632</td>\n",
              "      <td>72.257273</td>\n",
              "      <td>0.902559</td>\n",
              "    </tr>\n",
              "  </tbody>\n",
              "</table>\n",
              "<p>85 rows × 6 columns</p>\n",
              "</div>"
            ],
            "text/plain": [
              "Officer Race       1.0       2.0        3.0        4.0         5.0       6.0\n",
              "Driver Age                                                                  \n",
              "10            0.000000  0.000000   0.000000   0.000000  100.000000  0.000000\n",
              "12            0.000000  0.000000   0.000000   0.000000  100.000000  0.000000\n",
              "13            0.000000  0.000000   0.000000   0.000000  100.000000  0.000000\n",
              "14            0.000000  0.000000  66.666667   0.000000   33.333333  0.000000\n",
              "15            0.000000  0.000000   3.225806   6.451613   90.322581  0.000000\n",
              "...                ...       ...        ...        ...         ...       ...\n",
              "91            0.000000  0.000000   0.000000  33.333333   66.666667  0.000000\n",
              "92            0.000000  0.000000   0.000000   0.000000  100.000000  0.000000\n",
              "93            0.000000  0.000000   0.000000   0.000000  100.000000  0.000000\n",
              "99            0.000000  0.000000   0.000000   0.000000  100.000000  0.000000\n",
              "All           0.301687  5.444144  17.382705   3.711632   72.257273  0.902559\n",
              "\n",
              "[85 rows x 6 columns]"
            ]
          },
          "metadata": {
            "tags": []
          },
          "execution_count": 74
        }
      ]
    },
    {
      "cell_type": "code",
      "metadata": {
        "id": "w4AK15xVeQzX",
        "colab_type": "code",
        "colab": {}
      },
      "source": [
        "#sns.set(style=\"ticks\", color_codes=True)\n",
        "g = sns.PairGrid(df, hue= 'Driver Race')\n",
        "g.map(sns.scatterplot)\n",
        "#sns.pairplot(df)"
      ],
      "execution_count": null,
      "outputs": []
    },
    {
      "cell_type": "code",
      "metadata": {
        "id": "qlQi2-c_799S",
        "colab_type": "code",
        "colab": {
          "base_uri": "https://localhost:8080/",
          "height": 483
        },
        "outputId": "14092a02-ed53-452e-baf9-fa94a02929b2"
      },
      "source": [
        "pd.crosstab(df['Month'], df['Search of Vehicle'], margins= True, normalize= 'index') * 100"
      ],
      "execution_count": null,
      "outputs": [
        {
          "output_type": "execute_result",
          "data": {
            "text/html": [
              "<div>\n",
              "<style scoped>\n",
              "    .dataframe tbody tr th:only-of-type {\n",
              "        vertical-align: middle;\n",
              "    }\n",
              "\n",
              "    .dataframe tbody tr th {\n",
              "        vertical-align: top;\n",
              "    }\n",
              "\n",
              "    .dataframe thead th {\n",
              "        text-align: right;\n",
              "    }\n",
              "</style>\n",
              "<table border=\"1\" class=\"dataframe\">\n",
              "  <thead>\n",
              "    <tr style=\"text-align: right;\">\n",
              "      <th>Search of Vehicle</th>\n",
              "      <th>0</th>\n",
              "      <th>1</th>\n",
              "    </tr>\n",
              "    <tr>\n",
              "      <th>Month</th>\n",
              "      <th></th>\n",
              "      <th></th>\n",
              "    </tr>\n",
              "  </thead>\n",
              "  <tbody>\n",
              "    <tr>\n",
              "      <th>1</th>\n",
              "      <td>95.557618</td>\n",
              "      <td>4.442382</td>\n",
              "    </tr>\n",
              "    <tr>\n",
              "      <th>2</th>\n",
              "      <td>95.763256</td>\n",
              "      <td>4.236744</td>\n",
              "    </tr>\n",
              "    <tr>\n",
              "      <th>3</th>\n",
              "      <td>95.785396</td>\n",
              "      <td>4.214604</td>\n",
              "    </tr>\n",
              "    <tr>\n",
              "      <th>4</th>\n",
              "      <td>96.004415</td>\n",
              "      <td>3.995585</td>\n",
              "    </tr>\n",
              "    <tr>\n",
              "      <th>5</th>\n",
              "      <td>95.199883</td>\n",
              "      <td>4.800117</td>\n",
              "    </tr>\n",
              "    <tr>\n",
              "      <th>6</th>\n",
              "      <td>96.271090</td>\n",
              "      <td>3.728910</td>\n",
              "    </tr>\n",
              "    <tr>\n",
              "      <th>7</th>\n",
              "      <td>96.010049</td>\n",
              "      <td>3.989951</td>\n",
              "    </tr>\n",
              "    <tr>\n",
              "      <th>8</th>\n",
              "      <td>96.173304</td>\n",
              "      <td>3.826696</td>\n",
              "    </tr>\n",
              "    <tr>\n",
              "      <th>9</th>\n",
              "      <td>96.620117</td>\n",
              "      <td>3.379883</td>\n",
              "    </tr>\n",
              "    <tr>\n",
              "      <th>10</th>\n",
              "      <td>96.449932</td>\n",
              "      <td>3.550068</td>\n",
              "    </tr>\n",
              "    <tr>\n",
              "      <th>11</th>\n",
              "      <td>96.408567</td>\n",
              "      <td>3.591433</td>\n",
              "    </tr>\n",
              "    <tr>\n",
              "      <th>12</th>\n",
              "      <td>95.998333</td>\n",
              "      <td>4.001667</td>\n",
              "    </tr>\n",
              "    <tr>\n",
              "      <th>All</th>\n",
              "      <td>95.984177</td>\n",
              "      <td>4.015823</td>\n",
              "    </tr>\n",
              "  </tbody>\n",
              "</table>\n",
              "</div>"
            ],
            "text/plain": [
              "Search of Vehicle          0         1\n",
              "Month                                 \n",
              "1                  95.557618  4.442382\n",
              "2                  95.763256  4.236744\n",
              "3                  95.785396  4.214604\n",
              "4                  96.004415  3.995585\n",
              "5                  95.199883  4.800117\n",
              "6                  96.271090  3.728910\n",
              "7                  96.010049  3.989951\n",
              "8                  96.173304  3.826696\n",
              "9                  96.620117  3.379883\n",
              "10                 96.449932  3.550068\n",
              "11                 96.408567  3.591433\n",
              "12                 95.998333  4.001667\n",
              "All                95.984177  4.015823"
            ]
          },
          "metadata": {
            "tags": []
          },
          "execution_count": 85
        }
      ]
    },
    {
      "cell_type": "code",
      "metadata": {
        "id": "AdYh_ePdV-RM",
        "colab_type": "code",
        "colab": {}
      },
      "source": [
        "def chi_square(column_name):\n",
        "  results = [(column, chi2_contingency(pd.crosstab(cat_variables[column], cat_variables[column_name]))[1]) for column in cat_variables.columns]\n",
        "  results = pd.DataFrame(results)\n",
        "  results.columns = ['Variable', 'p-value']\n",
        "  results = results.sort_values(by= ['p-value'])\n",
        "  return results"
      ],
      "execution_count": null,
      "outputs": []
    },
    {
      "cell_type": "code",
      "metadata": {
        "id": "1k5C7VZWX1su",
        "colab_type": "code",
        "colab": {
          "base_uri": "https://localhost:8080/",
          "height": 328
        },
        "outputId": "e460af78-a86f-44e2-f6a3-fae741c90537"
      },
      "source": [
        "chi_square('Reason for Stop')"
      ],
      "execution_count": null,
      "outputs": [
        {
          "output_type": "execute_result",
          "data": {
            "text/html": [
              "<div>\n",
              "<style scoped>\n",
              "    .dataframe tbody tr th:only-of-type {\n",
              "        vertical-align: middle;\n",
              "    }\n",
              "\n",
              "    .dataframe tbody tr th {\n",
              "        vertical-align: top;\n",
              "    }\n",
              "\n",
              "    .dataframe thead th {\n",
              "        text-align: right;\n",
              "    }\n",
              "</style>\n",
              "<table border=\"1\" class=\"dataframe\">\n",
              "  <thead>\n",
              "    <tr style=\"text-align: right;\">\n",
              "      <th></th>\n",
              "      <th>Variable</th>\n",
              "      <th>p-value</th>\n",
              "    </tr>\n",
              "  </thead>\n",
              "  <tbody>\n",
              "    <tr>\n",
              "      <th>1</th>\n",
              "      <td>Reason for Stop</td>\n",
              "      <td>0.000000e+00</td>\n",
              "    </tr>\n",
              "    <tr>\n",
              "      <th>4</th>\n",
              "      <td>Driver Race</td>\n",
              "      <td>0.000000e+00</td>\n",
              "    </tr>\n",
              "    <tr>\n",
              "      <th>7</th>\n",
              "      <td>Search of Vehicle</td>\n",
              "      <td>0.000000e+00</td>\n",
              "    </tr>\n",
              "    <tr>\n",
              "      <th>8</th>\n",
              "      <td>Result of Stop</td>\n",
              "      <td>0.000000e+00</td>\n",
              "    </tr>\n",
              "    <tr>\n",
              "      <th>5</th>\n",
              "      <td>Driver Hispanic</td>\n",
              "      <td>1.239846e-139</td>\n",
              "    </tr>\n",
              "    <tr>\n",
              "      <th>2</th>\n",
              "      <td>Officer Race</td>\n",
              "      <td>1.467362e-133</td>\n",
              "    </tr>\n",
              "    <tr>\n",
              "      <th>0</th>\n",
              "      <td>Month</td>\n",
              "      <td>5.973070e-127</td>\n",
              "    </tr>\n",
              "    <tr>\n",
              "      <th>3</th>\n",
              "      <td>Officer Gender</td>\n",
              "      <td>3.315326e-125</td>\n",
              "    </tr>\n",
              "    <tr>\n",
              "      <th>6</th>\n",
              "      <td>Driver Gender</td>\n",
              "      <td>1.074974e-77</td>\n",
              "    </tr>\n",
              "  </tbody>\n",
              "</table>\n",
              "</div>"
            ],
            "text/plain": [
              "            Variable        p-value\n",
              "1    Reason for Stop   0.000000e+00\n",
              "4        Driver Race   0.000000e+00\n",
              "7  Search of Vehicle   0.000000e+00\n",
              "8     Result of Stop   0.000000e+00\n",
              "5    Driver Hispanic  1.239846e-139\n",
              "2       Officer Race  1.467362e-133\n",
              "0              Month  5.973070e-127\n",
              "3     Officer Gender  3.315326e-125\n",
              "6      Driver Gender   1.074974e-77"
            ]
          },
          "metadata": {
            "tags": []
          },
          "execution_count": 151
        }
      ]
    },
    {
      "cell_type": "code",
      "metadata": {
        "id": "qVnubozqX5ym",
        "colab_type": "code",
        "colab": {
          "base_uri": "https://localhost:8080/",
          "height": 328
        },
        "outputId": "85926ec7-57db-43fb-d080-178dc1549b79"
      },
      "source": [
        "chi_square('Result of Stop')"
      ],
      "execution_count": null,
      "outputs": [
        {
          "output_type": "execute_result",
          "data": {
            "text/html": [
              "<div>\n",
              "<style scoped>\n",
              "    .dataframe tbody tr th:only-of-type {\n",
              "        vertical-align: middle;\n",
              "    }\n",
              "\n",
              "    .dataframe tbody tr th {\n",
              "        vertical-align: top;\n",
              "    }\n",
              "\n",
              "    .dataframe thead th {\n",
              "        text-align: right;\n",
              "    }\n",
              "</style>\n",
              "<table border=\"1\" class=\"dataframe\">\n",
              "  <thead>\n",
              "    <tr style=\"text-align: right;\">\n",
              "      <th></th>\n",
              "      <th>Variable</th>\n",
              "      <th>p-value</th>\n",
              "    </tr>\n",
              "  </thead>\n",
              "  <tbody>\n",
              "    <tr>\n",
              "      <th>1</th>\n",
              "      <td>Reason for Stop</td>\n",
              "      <td>0.000000e+00</td>\n",
              "    </tr>\n",
              "    <tr>\n",
              "      <th>7</th>\n",
              "      <td>Search of Vehicle</td>\n",
              "      <td>0.000000e+00</td>\n",
              "    </tr>\n",
              "    <tr>\n",
              "      <th>8</th>\n",
              "      <td>Result of Stop</td>\n",
              "      <td>0.000000e+00</td>\n",
              "    </tr>\n",
              "    <tr>\n",
              "      <th>2</th>\n",
              "      <td>Officer Race</td>\n",
              "      <td>2.701179e-261</td>\n",
              "    </tr>\n",
              "    <tr>\n",
              "      <th>6</th>\n",
              "      <td>Driver Gender</td>\n",
              "      <td>5.981797e-87</td>\n",
              "    </tr>\n",
              "    <tr>\n",
              "      <th>4</th>\n",
              "      <td>Driver Race</td>\n",
              "      <td>1.027880e-83</td>\n",
              "    </tr>\n",
              "    <tr>\n",
              "      <th>0</th>\n",
              "      <td>Month</td>\n",
              "      <td>5.788958e-54</td>\n",
              "    </tr>\n",
              "    <tr>\n",
              "      <th>5</th>\n",
              "      <td>Driver Hispanic</td>\n",
              "      <td>4.732458e-47</td>\n",
              "    </tr>\n",
              "    <tr>\n",
              "      <th>3</th>\n",
              "      <td>Officer Gender</td>\n",
              "      <td>6.830459e-11</td>\n",
              "    </tr>\n",
              "  </tbody>\n",
              "</table>\n",
              "</div>"
            ],
            "text/plain": [
              "            Variable        p-value\n",
              "1    Reason for Stop   0.000000e+00\n",
              "7  Search of Vehicle   0.000000e+00\n",
              "8     Result of Stop   0.000000e+00\n",
              "2       Officer Race  2.701179e-261\n",
              "6      Driver Gender   5.981797e-87\n",
              "4        Driver Race   1.027880e-83\n",
              "0              Month   5.788958e-54\n",
              "5    Driver Hispanic   4.732458e-47\n",
              "3     Officer Gender   6.830459e-11"
            ]
          },
          "metadata": {
            "tags": []
          },
          "execution_count": 152
        }
      ]
    },
    {
      "cell_type": "code",
      "metadata": {
        "id": "FQ8EhgPVYIYP",
        "colab_type": "code",
        "colab": {
          "base_uri": "https://localhost:8080/",
          "height": 328
        },
        "outputId": "a88fcf66-357a-46b5-a562-02ea4409b855"
      },
      "source": [
        "chi_square('Search of Vehicle')"
      ],
      "execution_count": null,
      "outputs": [
        {
          "output_type": "execute_result",
          "data": {
            "text/html": [
              "<div>\n",
              "<style scoped>\n",
              "    .dataframe tbody tr th:only-of-type {\n",
              "        vertical-align: middle;\n",
              "    }\n",
              "\n",
              "    .dataframe tbody tr th {\n",
              "        vertical-align: top;\n",
              "    }\n",
              "\n",
              "    .dataframe thead th {\n",
              "        text-align: right;\n",
              "    }\n",
              "</style>\n",
              "<table border=\"1\" class=\"dataframe\">\n",
              "  <thead>\n",
              "    <tr style=\"text-align: right;\">\n",
              "      <th></th>\n",
              "      <th>Variable</th>\n",
              "      <th>p-value</th>\n",
              "    </tr>\n",
              "  </thead>\n",
              "  <tbody>\n",
              "    <tr>\n",
              "      <th>1</th>\n",
              "      <td>Reason for Stop</td>\n",
              "      <td>0.000000e+00</td>\n",
              "    </tr>\n",
              "    <tr>\n",
              "      <th>7</th>\n",
              "      <td>Search of Vehicle</td>\n",
              "      <td>0.000000e+00</td>\n",
              "    </tr>\n",
              "    <tr>\n",
              "      <th>8</th>\n",
              "      <td>Result of Stop</td>\n",
              "      <td>0.000000e+00</td>\n",
              "    </tr>\n",
              "    <tr>\n",
              "      <th>6</th>\n",
              "      <td>Driver Gender</td>\n",
              "      <td>1.137851e-195</td>\n",
              "    </tr>\n",
              "    <tr>\n",
              "      <th>4</th>\n",
              "      <td>Driver Race</td>\n",
              "      <td>5.338474e-160</td>\n",
              "    </tr>\n",
              "    <tr>\n",
              "      <th>2</th>\n",
              "      <td>Officer Race</td>\n",
              "      <td>2.020537e-28</td>\n",
              "    </tr>\n",
              "    <tr>\n",
              "      <th>3</th>\n",
              "      <td>Officer Gender</td>\n",
              "      <td>4.963004e-08</td>\n",
              "    </tr>\n",
              "    <tr>\n",
              "      <th>5</th>\n",
              "      <td>Driver Hispanic</td>\n",
              "      <td>1.837276e-04</td>\n",
              "    </tr>\n",
              "    <tr>\n",
              "      <th>0</th>\n",
              "      <td>Month</td>\n",
              "      <td>1.871583e-03</td>\n",
              "    </tr>\n",
              "  </tbody>\n",
              "</table>\n",
              "</div>"
            ],
            "text/plain": [
              "            Variable        p-value\n",
              "1    Reason for Stop   0.000000e+00\n",
              "7  Search of Vehicle   0.000000e+00\n",
              "8     Result of Stop   0.000000e+00\n",
              "6      Driver Gender  1.137851e-195\n",
              "4        Driver Race  5.338474e-160\n",
              "2       Officer Race   2.020537e-28\n",
              "3     Officer Gender   4.963004e-08\n",
              "5    Driver Hispanic   1.837276e-04\n",
              "0              Month   1.871583e-03"
            ]
          },
          "metadata": {
            "tags": []
          },
          "execution_count": 155
        }
      ]
    },
    {
      "cell_type": "code",
      "metadata": {
        "id": "6NHurRx5fEkB",
        "colab_type": "code",
        "colab": {
          "base_uri": "https://localhost:8080/",
          "height": 459
        },
        "outputId": "9f2eb378-d50a-4362-8206-6dd6a9edb36c"
      },
      "source": [
        "\n",
        "\n",
        "df['Reason for Stop'].value_counts()  "
      ],
      "execution_count": null,
      "outputs": [
        {
          "output_type": "execute_result",
          "data": {
            "text/plain": [
              "10    32405\n",
              "7     22222\n",
              "8      7946\n",
              "9      7535\n",
              "5      4827\n",
              "3      1992\n",
              "4      1926\n",
              "6       631\n",
              "1       286\n",
              "2       114\n",
              "Name: Reason for Stop, dtype: int64"
            ]
          },
          "metadata": {
            "tags": []
          },
          "execution_count": 156
        },
        {
          "output_type": "display_data",
          "data": {
            "image/png": "[encoded data removed]",
            "text/plain": [
              "<Figure size 432x288 with 1 Axes>"
            ]
          },
          "metadata": {
            "tags": []
          }
        }
      ]
    },
    {
      "cell_type": "code",
      "metadata": {
        "id": "Fdhub_CZhCbw",
        "colab_type": "code",
        "colab": {
          "base_uri": "https://localhost:8080/",
          "height": 34
        },
        "outputId": "5fc215b5-1246-4b23-834e-55f51583aeac"
      },
      "source": [
        "df['Reason for Stop'].values"
      ],
      "execution_count": null,
      "outputs": [
        {
          "output_type": "execute_result",
          "data": {
            "text/plain": [
              "array([ 8,  8,  8, ...,  7, 10,  9])"
            ]
          },
          "metadata": {
            "tags": []
          },
          "execution_count": 160
        }
      ]
    },
    {
      "cell_type": "code",
      "metadata": {
        "id": "HDkpGjAIgsf5",
        "colab_type": "code",
        "colab": {
          "base_uri": "https://localhost:8080/",
          "height": 187
        },
        "outputId": "35e1d4c2-796a-457d-a8b5-69371b2d1c94"
      },
      "source": [
        "for reason in df['Reason for Stop'].value_counts():\n",
        "  print(reason)"
      ],
      "execution_count": null,
      "outputs": [
        {
          "output_type": "stream",
          "text": [
            "32405\n",
            "22222\n",
            "7946\n",
            "7535\n",
            "4827\n",
            "1992\n",
            "1926\n",
            "631\n",
            "286\n",
            "114\n"
          ],
          "name": "stdout"
        }
      ]
    },
    {
      "cell_type": "code",
      "metadata": {
        "id": "by_ry8wehP2k",
        "colab_type": "code",
        "colab": {}
      },
      "source": [
        "df2 = pd.crosstab(df['Result of Stop'], df['Reason for Stop'], margins= True, normalize= True)*100"
      ],
      "execution_count": 159,
      "outputs": []
    },
    {
      "cell_type": "code",
      "metadata": {
        "id": "Ygt3ghP3hfbR",
        "colab_type": "code",
        "colab": {
          "base_uri": "https://localhost:8080/",
          "height": 153
        },
        "outputId": "323b2b06-5e4b-45ad-ceab-883fdbd77640"
      },
      "source": [
        "df2[1]"
      ],
      "execution_count": 160,
      "outputs": [
        {
          "output_type": "execute_result",
          "data": {
            "text/plain": [
              "Result of Stop\n",
              "1      0.011266\n",
              "2      0.045065\n",
              "3      0.005007\n",
              "4      0.269140\n",
              "5      0.027540\n",
              "All    0.358019\n",
              "Name: 1, dtype: float64"
            ]
          },
          "metadata": {
            "tags": []
          },
          "execution_count": 160
        }
      ]
    },
    {
      "cell_type": "code",
      "metadata": {
        "id": "vWKW9dm6iC4g",
        "colab_type": "code",
        "colab": {
          "base_uri": "https://localhost:8080/",
          "height": 266
        },
        "outputId": "01ac7526-3774-4d85-a67c-49495f3662c7"
      },
      "source": [
        "df2"
      ],
      "execution_count": 161,
      "outputs": [
        {
          "output_type": "execute_result",
          "data": {
            "text/html": [
              "<div>\n",
              "<style scoped>\n",
              "    .dataframe tbody tr th:only-of-type {\n",
              "        vertical-align: middle;\n",
              "    }\n",
              "\n",
              "    .dataframe tbody tr th {\n",
              "        vertical-align: top;\n",
              "    }\n",
              "\n",
              "    .dataframe thead th {\n",
              "        text-align: right;\n",
              "    }\n",
              "</style>\n",
              "<table border=\"1\" class=\"dataframe\">\n",
              "  <thead>\n",
              "    <tr style=\"text-align: right;\">\n",
              "      <th>Reason for Stop</th>\n",
              "      <th>1</th>\n",
              "      <th>2</th>\n",
              "      <th>3</th>\n",
              "      <th>4</th>\n",
              "      <th>5</th>\n",
              "      <th>6</th>\n",
              "      <th>7</th>\n",
              "      <th>8</th>\n",
              "      <th>9</th>\n",
              "      <th>10</th>\n",
              "      <th>All</th>\n",
              "    </tr>\n",
              "    <tr>\n",
              "      <th>Result of Stop</th>\n",
              "      <th></th>\n",
              "      <th></th>\n",
              "      <th></th>\n",
              "      <th></th>\n",
              "      <th></th>\n",
              "      <th></th>\n",
              "      <th></th>\n",
              "      <th></th>\n",
              "      <th></th>\n",
              "      <th></th>\n",
              "      <th></th>\n",
              "    </tr>\n",
              "  </thead>\n",
              "  <tbody>\n",
              "    <tr>\n",
              "      <th>1</th>\n",
              "      <td>0.011266</td>\n",
              "      <td>0.003755</td>\n",
              "      <td>0.503230</td>\n",
              "      <td>0.250363</td>\n",
              "      <td>0.068850</td>\n",
              "      <td>0.007511</td>\n",
              "      <td>0.115167</td>\n",
              "      <td>0.058835</td>\n",
              "      <td>0.186520</td>\n",
              "      <td>1.190476</td>\n",
              "      <td>2.395974</td>\n",
              "    </tr>\n",
              "    <tr>\n",
              "      <th>2</th>\n",
              "      <td>0.045065</td>\n",
              "      <td>0.017525</td>\n",
              "      <td>0.843723</td>\n",
              "      <td>1.032747</td>\n",
              "      <td>4.102198</td>\n",
              "      <td>0.388063</td>\n",
              "      <td>8.617495</td>\n",
              "      <td>6.443092</td>\n",
              "      <td>7.155375</td>\n",
              "      <td>21.513695</td>\n",
              "      <td>50.158981</td>\n",
              "    </tr>\n",
              "    <tr>\n",
              "      <th>3</th>\n",
              "      <td>0.005007</td>\n",
              "      <td>0.000000</td>\n",
              "      <td>0.062591</td>\n",
              "      <td>0.177758</td>\n",
              "      <td>0.230334</td>\n",
              "      <td>0.026288</td>\n",
              "      <td>1.689950</td>\n",
              "      <td>0.505733</td>\n",
              "      <td>0.389315</td>\n",
              "      <td>1.162936</td>\n",
              "      <td>4.249912</td>\n",
              "    </tr>\n",
              "    <tr>\n",
              "      <th>4</th>\n",
              "      <td>0.269140</td>\n",
              "      <td>0.013770</td>\n",
              "      <td>0.794903</td>\n",
              "      <td>0.817435</td>\n",
              "      <td>1.512193</td>\n",
              "      <td>0.331731</td>\n",
              "      <td>17.141105</td>\n",
              "      <td>2.806570</td>\n",
              "      <td>1.473386</td>\n",
              "      <td>16.057033</td>\n",
              "      <td>41.217265</td>\n",
              "    </tr>\n",
              "    <tr>\n",
              "      <th>5</th>\n",
              "      <td>0.027540</td>\n",
              "      <td>0.107656</td>\n",
              "      <td>0.289169</td>\n",
              "      <td>0.132692</td>\n",
              "      <td>0.128937</td>\n",
              "      <td>0.036303</td>\n",
              "      <td>0.254118</td>\n",
              "      <td>0.132692</td>\n",
              "      <td>0.227830</td>\n",
              "      <td>0.640929</td>\n",
              "      <td>1.977868</td>\n",
              "    </tr>\n",
              "    <tr>\n",
              "      <th>All</th>\n",
              "      <td>0.358019</td>\n",
              "      <td>0.142707</td>\n",
              "      <td>2.493616</td>\n",
              "      <td>2.410996</td>\n",
              "      <td>6.042512</td>\n",
              "      <td>0.789895</td>\n",
              "      <td>27.817836</td>\n",
              "      <td>9.946923</td>\n",
              "      <td>9.432427</td>\n",
              "      <td>40.565069</td>\n",
              "      <td>100.000000</td>\n",
              "    </tr>\n",
              "  </tbody>\n",
              "</table>\n",
              "</div>"
            ],
            "text/plain": [
              "Reason for Stop         1         2         3  ...         9         10         All\n",
              "Result of Stop                                 ...                                 \n",
              "1                0.011266  0.003755  0.503230  ...  0.186520   1.190476    2.395974\n",
              "2                0.045065  0.017525  0.843723  ...  7.155375  21.513695   50.158981\n",
              "3                0.005007  0.000000  0.062591  ...  0.389315   1.162936    4.249912\n",
              "4                0.269140  0.013770  0.794903  ...  1.473386  16.057033   41.217265\n",
              "5                0.027540  0.107656  0.289169  ...  0.227830   0.640929    1.977868\n",
              "All              0.358019  0.142707  2.493616  ...  9.432427  40.565069  100.000000\n",
              "\n",
              "[6 rows x 11 columns]"
            ]
          },
          "metadata": {
            "tags": []
          },
          "execution_count": 161
        }
      ]
    },
    {
      "cell_type": "code",
      "metadata": {
        "id": "EYAe7pHvmjSZ",
        "colab_type": "code",
        "colab": {
          "base_uri": "https://localhost:8080/",
          "height": 119
        },
        "outputId": "214237fc-10fb-4119-c65e-98ea65e3cd6b"
      },
      "source": [
        "df['Result of Stop'].value_counts()"
      ],
      "execution_count": 162,
      "outputs": [
        {
          "output_type": "execute_result",
          "data": {
            "text/plain": [
              "2    40069\n",
              "4    32926\n",
              "3     3395\n",
              "1     1914\n",
              "5     1580\n",
              "Name: Result of Stop, dtype: int64"
            ]
          },
          "metadata": {
            "tags": []
          },
          "execution_count": 162
        }
      ]
    },
    {
      "cell_type": "code",
      "metadata": {
        "id": "hN_zdwWZnVFE",
        "colab_type": "code",
        "colab": {
          "base_uri": "https://localhost:8080/",
          "height": 102
        },
        "outputId": "83594453-0baa-4f20-d557-26e2a2164c38"
      },
      "source": [
        "result_labels"
      ],
      "execution_count": 163,
      "outputs": [
        {
          "output_type": "execute_result",
          "data": {
            "text/plain": [
              "['No Action\\n Taken',\n",
              " 'Verbal \\nWarning',\n",
              " 'Written \\nWarning',\n",
              " 'Citation',\n",
              " 'Arrest']"
            ]
          },
          "metadata": {
            "tags": []
          },
          "execution_count": 163
        }
      ]
    },
    {
      "cell_type": "code",
      "metadata": {
        "id": "xI4LpTG1ikzF",
        "colab_type": "code",
        "colab": {
          "base_uri": "https://localhost:8080/",
          "height": 516
        },
        "outputId": "48e33011-3ca0-486b-ff2b-c3ef25ad039b"
      },
      "source": [
        "fig, ax = plt.subplots()\n",
        "plt.style.use('fivethirtyeight')\n",
        "color = ['k', '#6D904F', 'orange', '#810F7C', '#F41A1A']\n",
        "#colors = ['g', 'r', 'b', 'purple', 'orange', 'k', 'magenta', 'pink', 'olive', 'cyan', 'brown']\n",
        "\n",
        "color = sns.color_palette('hls', 5)\n",
        "\n",
        "\n",
        "for j in range(1, 11):\n",
        "  foundation = 0\n",
        "  for i in range(1, 6):\n",
        "    ax.bar(x= j, bottom= foundation, height= df2[j][i], width= 0.97, color= color[5-i])\n",
        "    foundation += df2[j][i] \n",
        "\n",
        "plt.title('Reason For and Result Of Stop')\n",
        "fig.set_figheight(7)\n",
        "fig.set_figwidth(15)\n",
        "fig.set_facecolor('lightgrey')\n",
        "ax.set_xlabel('Reason for Stop')\n",
        "ax.set_ylabel('Percent of Stops')\n",
        "ax.legend(labels= result_labels)\n",
        "ax.set_xticklabels(reason_labels)\n",
        "ax.set_xticks(ticks= [1, 2, 3, 4, 5, 6, 7, 8, 9, 10])\n",
        "plt.show();"
      ],
      "execution_count": 170,
      "outputs": [
        {
          "output_type": "display_data",
          "data": {
            "image/png": "[encoded data removed]",
            "text/plain": [
              "<Figure size 1080x504 with 1 Axes>"
            ]
          },
          "metadata": {
            "tags": []
          }
        }
      ]
    },
    {
      "cell_type": "code",
      "metadata": {
        "id": "Xem_lepmzAJA",
        "colab_type": "code",
        "colab": {
          "base_uri": "https://localhost:8080/",
          "height": 235
        },
        "outputId": "2c833400-0286-41e2-cc4a-c30cad6258ab"
      },
      "source": [
        "df3 = pd.crosstab(df['Driver Race'], df['Driver Gender'], normalize= True)*100\n",
        "df3"
      ],
      "execution_count": 172,
      "outputs": [
        {
          "output_type": "execute_result",
          "data": {
            "text/html": [
              "<div>\n",
              "<style scoped>\n",
              "    .dataframe tbody tr th:only-of-type {\n",
              "        vertical-align: middle;\n",
              "    }\n",
              "\n",
              "    .dataframe tbody tr th {\n",
              "        vertical-align: top;\n",
              "    }\n",
              "\n",
              "    .dataframe thead th {\n",
              "        text-align: right;\n",
              "    }\n",
              "</style>\n",
              "<table border=\"1\" class=\"dataframe\">\n",
              "  <thead>\n",
              "    <tr style=\"text-align: right;\">\n",
              "      <th>Driver Gender</th>\n",
              "      <th>0</th>\n",
              "      <th>1</th>\n",
              "    </tr>\n",
              "    <tr>\n",
              "      <th>Driver Race</th>\n",
              "      <th></th>\n",
              "      <th></th>\n",
              "    </tr>\n",
              "  </thead>\n",
              "  <tbody>\n",
              "    <tr>\n",
              "      <th>1</th>\n",
              "      <td>0.693506</td>\n",
              "      <td>1.135396</td>\n",
              "    </tr>\n",
              "    <tr>\n",
              "      <th>2</th>\n",
              "      <td>23.462771</td>\n",
              "      <td>30.327725</td>\n",
              "    </tr>\n",
              "    <tr>\n",
              "      <th>3</th>\n",
              "      <td>0.035051</td>\n",
              "      <td>0.042562</td>\n",
              "    </tr>\n",
              "    <tr>\n",
              "      <th>4</th>\n",
              "      <td>0.957639</td>\n",
              "      <td>2.074258</td>\n",
              "    </tr>\n",
              "    <tr>\n",
              "      <th>5</th>\n",
              "      <td>16.899504</td>\n",
              "      <td>24.371589</td>\n",
              "    </tr>\n",
              "  </tbody>\n",
              "</table>\n",
              "</div>"
            ],
            "text/plain": [
              "Driver Gender          0          1\n",
              "Driver Race                        \n",
              "1               0.693506   1.135396\n",
              "2              23.462771  30.327725\n",
              "3               0.035051   0.042562\n",
              "4               0.957639   2.074258\n",
              "5              16.899504  24.371589"
            ]
          },
          "metadata": {
            "tags": []
          },
          "execution_count": 172
        }
      ]
    },
    {
      "cell_type": "code",
      "metadata": {
        "id": "uOlOhsQY6yfs",
        "colab_type": "code",
        "colab": {
          "base_uri": "https://localhost:8080/",
          "height": 136
        },
        "outputId": "13f24a88-d7db-4201-f7ed-35a43d8cac57"
      },
      "source": [
        "df3[1]"
      ],
      "execution_count": 142,
      "outputs": [
        {
          "output_type": "execute_result",
          "data": {
            "text/plain": [
              "Driver Race\n",
              "1     1.135396\n",
              "2    30.327725\n",
              "3     0.042562\n",
              "4     2.074258\n",
              "5    24.371589\n",
              "Name: 1, dtype: float64"
            ]
          },
          "metadata": {
            "tags": []
          },
          "execution_count": 142
        }
      ]
    },
    {
      "cell_type": "code",
      "metadata": {
        "id": "gPkF7F28Abaj",
        "colab_type": "code",
        "colab": {
          "base_uri": "https://localhost:8080/",
          "height": 345
        },
        "outputId": "a037fcba-4c20-4281-d4a6-acfe59576d8b"
      },
      "source": [
        "fig, ax = plt.subplots()\n",
        "\n",
        "fig.set_figheight(5)\n",
        "fig.set_figwidth(5)\n",
        "\n",
        "ax.scatter(x= np.zeros(5), y= [1, 2, 3, 4, 5], s= df3[1] * 50)\n",
        "ax.scatter(x= np.zeros(5) + 1, y= [1, 2, 3, 4, 5], s= df3[0] * 50)\n",
        "ax.set_xlim(-0.2, 1.2)\n",
        "ax.set_ylim(-1, 6)\n",
        "ax.set_xticks(ticks= [0,1])\n",
        "plt.show()"
      ],
      "execution_count": 174,
      "outputs": [
        {
          "output_type": "display_data",
          "data": {
            "image/png": "[encoded data removed]",
            "text/plain": [
              "<Figure size 360x360 with 1 Axes>"
            ]
          },
          "metadata": {
            "tags": []
          }
        }
      ]
    },
    {
      "cell_type": "code",
      "metadata": {
        "id": "RcyAcl6kyh-X",
        "colab_type": "code",
        "colab": {}
      },
      "source": [
        ""
      ],
      "execution_count": null,
      "outputs": []
    }
  ]
}